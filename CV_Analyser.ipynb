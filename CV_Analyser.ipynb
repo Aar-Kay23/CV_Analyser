{
  "cells": [
    {
      "cell_type": "markdown",
      "metadata": {
        "id": "view-in-github",
        "colab_type": "text"
      },
      "source": [
        "<a href=\"https://colab.research.google.com/github/Aar-Kay23/CV_Analyser/blob/main/CV_Analyser.ipynb\" target=\"_parent\"><img src=\"https://colab.research.google.com/assets/colab-badge.svg\" alt=\"Open In Colab\"/></a>"
      ]
    },
    {
      "cell_type": "code",
      "execution_count": null,
      "id": "f62f971c-4107-437d-8633-e6d69d88fd79",
      "metadata": {
        "id": "f62f971c-4107-437d-8633-e6d69d88fd79"
      },
      "outputs": [],
      "source": [
        "import pandas as pd\n",
        "import matplotlib.pyplot as plt"
      ]
    },
    {
      "cell_type": "code",
      "execution_count": null,
      "id": "2f0b6660-c0d6-4b72-b8bc-7adf496446c3",
      "metadata": {
        "colab": {
          "base_uri": "https://localhost:8080/",
          "height": 206
        },
        "id": "2f0b6660-c0d6-4b72-b8bc-7adf496446c3",
        "outputId": "e899c9a1-5da3-4e93-cdb7-4231063ead10"
      },
      "outputs": [
        {
          "output_type": "execute_result",
          "data": {
            "text/plain": [
              "       Category                                             Resume\n",
              "0  Data Science  Skills * Programming Languages: Python (pandas...\n",
              "1  Data Science  Education Details \\r\\nMay 2013 to May 2017 B.E...\n",
              "2  Data Science  Areas of Interest Deep Learning, Control Syste...\n",
              "3  Data Science  Skills â¢ R â¢ Python â¢ SAP HANA â¢ Table...\n",
              "4  Data Science  Education Details \\r\\n MCA   YMCAUST,  Faridab..."
            ],
            "text/html": [
              "\n",
              "  <div id=\"df-a5767d39-af38-44f8-a351-f6353a1fc9bc\" class=\"colab-df-container\">\n",
              "    <div>\n",
              "<style scoped>\n",
              "    .dataframe tbody tr th:only-of-type {\n",
              "        vertical-align: middle;\n",
              "    }\n",
              "\n",
              "    .dataframe tbody tr th {\n",
              "        vertical-align: top;\n",
              "    }\n",
              "\n",
              "    .dataframe thead th {\n",
              "        text-align: right;\n",
              "    }\n",
              "</style>\n",
              "<table border=\"1\" class=\"dataframe\">\n",
              "  <thead>\n",
              "    <tr style=\"text-align: right;\">\n",
              "      <th></th>\n",
              "      <th>Category</th>\n",
              "      <th>Resume</th>\n",
              "    </tr>\n",
              "  </thead>\n",
              "  <tbody>\n",
              "    <tr>\n",
              "      <th>0</th>\n",
              "      <td>Data Science</td>\n",
              "      <td>Skills * Programming Languages: Python (pandas...</td>\n",
              "    </tr>\n",
              "    <tr>\n",
              "      <th>1</th>\n",
              "      <td>Data Science</td>\n",
              "      <td>Education Details \\r\\nMay 2013 to May 2017 B.E...</td>\n",
              "    </tr>\n",
              "    <tr>\n",
              "      <th>2</th>\n",
              "      <td>Data Science</td>\n",
              "      <td>Areas of Interest Deep Learning, Control Syste...</td>\n",
              "    </tr>\n",
              "    <tr>\n",
              "      <th>3</th>\n",
              "      <td>Data Science</td>\n",
              "      <td>Skills â¢ R â¢ Python â¢ SAP HANA â¢ Table...</td>\n",
              "    </tr>\n",
              "    <tr>\n",
              "      <th>4</th>\n",
              "      <td>Data Science</td>\n",
              "      <td>Education Details \\r\\n MCA   YMCAUST,  Faridab...</td>\n",
              "    </tr>\n",
              "  </tbody>\n",
              "</table>\n",
              "</div>\n",
              "    <div class=\"colab-df-buttons\">\n",
              "\n",
              "  <div class=\"colab-df-container\">\n",
              "    <button class=\"colab-df-convert\" onclick=\"convertToInteractive('df-a5767d39-af38-44f8-a351-f6353a1fc9bc')\"\n",
              "            title=\"Convert this dataframe to an interactive table.\"\n",
              "            style=\"display:none;\">\n",
              "\n",
              "  <svg xmlns=\"http://www.w3.org/2000/svg\" height=\"24px\" viewBox=\"0 -960 960 960\">\n",
              "    <path d=\"M120-120v-720h720v720H120Zm60-500h600v-160H180v160Zm220 220h160v-160H400v160Zm0 220h160v-160H400v160ZM180-400h160v-160H180v160Zm440 0h160v-160H620v160ZM180-180h160v-160H180v160Zm440 0h160v-160H620v160Z\"/>\n",
              "  </svg>\n",
              "    </button>\n",
              "\n",
              "  <style>\n",
              "    .colab-df-container {\n",
              "      display:flex;\n",
              "      gap: 12px;\n",
              "    }\n",
              "\n",
              "    .colab-df-convert {\n",
              "      background-color: #E8F0FE;\n",
              "      border: none;\n",
              "      border-radius: 50%;\n",
              "      cursor: pointer;\n",
              "      display: none;\n",
              "      fill: #1967D2;\n",
              "      height: 32px;\n",
              "      padding: 0 0 0 0;\n",
              "      width: 32px;\n",
              "    }\n",
              "\n",
              "    .colab-df-convert:hover {\n",
              "      background-color: #E2EBFA;\n",
              "      box-shadow: 0px 1px 2px rgba(60, 64, 67, 0.3), 0px 1px 3px 1px rgba(60, 64, 67, 0.15);\n",
              "      fill: #174EA6;\n",
              "    }\n",
              "\n",
              "    .colab-df-buttons div {\n",
              "      margin-bottom: 4px;\n",
              "    }\n",
              "\n",
              "    [theme=dark] .colab-df-convert {\n",
              "      background-color: #3B4455;\n",
              "      fill: #D2E3FC;\n",
              "    }\n",
              "\n",
              "    [theme=dark] .colab-df-convert:hover {\n",
              "      background-color: #434B5C;\n",
              "      box-shadow: 0px 1px 3px 1px rgba(0, 0, 0, 0.15);\n",
              "      filter: drop-shadow(0px 1px 2px rgba(0, 0, 0, 0.3));\n",
              "      fill: #FFFFFF;\n",
              "    }\n",
              "  </style>\n",
              "\n",
              "    <script>\n",
              "      const buttonEl =\n",
              "        document.querySelector('#df-a5767d39-af38-44f8-a351-f6353a1fc9bc button.colab-df-convert');\n",
              "      buttonEl.style.display =\n",
              "        google.colab.kernel.accessAllowed ? 'block' : 'none';\n",
              "\n",
              "      async function convertToInteractive(key) {\n",
              "        const element = document.querySelector('#df-a5767d39-af38-44f8-a351-f6353a1fc9bc');\n",
              "        const dataTable =\n",
              "          await google.colab.kernel.invokeFunction('convertToInteractive',\n",
              "                                                    [key], {});\n",
              "        if (!dataTable) return;\n",
              "\n",
              "        const docLinkHtml = 'Like what you see? Visit the ' +\n",
              "          '<a target=\"_blank\" href=https://colab.research.google.com/notebooks/data_table.ipynb>data table notebook</a>'\n",
              "          + ' to learn more about interactive tables.';\n",
              "        element.innerHTML = '';\n",
              "        dataTable['output_type'] = 'display_data';\n",
              "        await google.colab.output.renderOutput(dataTable, element);\n",
              "        const docLink = document.createElement('div');\n",
              "        docLink.innerHTML = docLinkHtml;\n",
              "        element.appendChild(docLink);\n",
              "      }\n",
              "    </script>\n",
              "  </div>\n",
              "\n",
              "\n",
              "<div id=\"df-c5599bb8-4633-4d0f-8b5f-58dbf9e2d4e7\">\n",
              "  <button class=\"colab-df-quickchart\" onclick=\"quickchart('df-c5599bb8-4633-4d0f-8b5f-58dbf9e2d4e7')\"\n",
              "            title=\"Suggest charts\"\n",
              "            style=\"display:none;\">\n",
              "\n",
              "<svg xmlns=\"http://www.w3.org/2000/svg\" height=\"24px\"viewBox=\"0 0 24 24\"\n",
              "     width=\"24px\">\n",
              "    <g>\n",
              "        <path d=\"M19 3H5c-1.1 0-2 .9-2 2v14c0 1.1.9 2 2 2h14c1.1 0 2-.9 2-2V5c0-1.1-.9-2-2-2zM9 17H7v-7h2v7zm4 0h-2V7h2v10zm4 0h-2v-4h2v4z\"/>\n",
              "    </g>\n",
              "</svg>\n",
              "  </button>\n",
              "\n",
              "<style>\n",
              "  .colab-df-quickchart {\n",
              "      --bg-color: #E8F0FE;\n",
              "      --fill-color: #1967D2;\n",
              "      --hover-bg-color: #E2EBFA;\n",
              "      --hover-fill-color: #174EA6;\n",
              "      --disabled-fill-color: #AAA;\n",
              "      --disabled-bg-color: #DDD;\n",
              "  }\n",
              "\n",
              "  [theme=dark] .colab-df-quickchart {\n",
              "      --bg-color: #3B4455;\n",
              "      --fill-color: #D2E3FC;\n",
              "      --hover-bg-color: #434B5C;\n",
              "      --hover-fill-color: #FFFFFF;\n",
              "      --disabled-bg-color: #3B4455;\n",
              "      --disabled-fill-color: #666;\n",
              "  }\n",
              "\n",
              "  .colab-df-quickchart {\n",
              "    background-color: var(--bg-color);\n",
              "    border: none;\n",
              "    border-radius: 50%;\n",
              "    cursor: pointer;\n",
              "    display: none;\n",
              "    fill: var(--fill-color);\n",
              "    height: 32px;\n",
              "    padding: 0;\n",
              "    width: 32px;\n",
              "  }\n",
              "\n",
              "  .colab-df-quickchart:hover {\n",
              "    background-color: var(--hover-bg-color);\n",
              "    box-shadow: 0 1px 2px rgba(60, 64, 67, 0.3), 0 1px 3px 1px rgba(60, 64, 67, 0.15);\n",
              "    fill: var(--button-hover-fill-color);\n",
              "  }\n",
              "\n",
              "  .colab-df-quickchart-complete:disabled,\n",
              "  .colab-df-quickchart-complete:disabled:hover {\n",
              "    background-color: var(--disabled-bg-color);\n",
              "    fill: var(--disabled-fill-color);\n",
              "    box-shadow: none;\n",
              "  }\n",
              "\n",
              "  .colab-df-spinner {\n",
              "    border: 2px solid var(--fill-color);\n",
              "    border-color: transparent;\n",
              "    border-bottom-color: var(--fill-color);\n",
              "    animation:\n",
              "      spin 1s steps(1) infinite;\n",
              "  }\n",
              "\n",
              "  @keyframes spin {\n",
              "    0% {\n",
              "      border-color: transparent;\n",
              "      border-bottom-color: var(--fill-color);\n",
              "      border-left-color: var(--fill-color);\n",
              "    }\n",
              "    20% {\n",
              "      border-color: transparent;\n",
              "      border-left-color: var(--fill-color);\n",
              "      border-top-color: var(--fill-color);\n",
              "    }\n",
              "    30% {\n",
              "      border-color: transparent;\n",
              "      border-left-color: var(--fill-color);\n",
              "      border-top-color: var(--fill-color);\n",
              "      border-right-color: var(--fill-color);\n",
              "    }\n",
              "    40% {\n",
              "      border-color: transparent;\n",
              "      border-right-color: var(--fill-color);\n",
              "      border-top-color: var(--fill-color);\n",
              "    }\n",
              "    60% {\n",
              "      border-color: transparent;\n",
              "      border-right-color: var(--fill-color);\n",
              "    }\n",
              "    80% {\n",
              "      border-color: transparent;\n",
              "      border-right-color: var(--fill-color);\n",
              "      border-bottom-color: var(--fill-color);\n",
              "    }\n",
              "    90% {\n",
              "      border-color: transparent;\n",
              "      border-bottom-color: var(--fill-color);\n",
              "    }\n",
              "  }\n",
              "</style>\n",
              "\n",
              "  <script>\n",
              "    async function quickchart(key) {\n",
              "      const quickchartButtonEl =\n",
              "        document.querySelector('#' + key + ' button');\n",
              "      quickchartButtonEl.disabled = true;  // To prevent multiple clicks.\n",
              "      quickchartButtonEl.classList.add('colab-df-spinner');\n",
              "      try {\n",
              "        const charts = await google.colab.kernel.invokeFunction(\n",
              "            'suggestCharts', [key], {});\n",
              "      } catch (error) {\n",
              "        console.error('Error during call to suggestCharts:', error);\n",
              "      }\n",
              "      quickchartButtonEl.classList.remove('colab-df-spinner');\n",
              "      quickchartButtonEl.classList.add('colab-df-quickchart-complete');\n",
              "    }\n",
              "    (() => {\n",
              "      let quickchartButtonEl =\n",
              "        document.querySelector('#df-c5599bb8-4633-4d0f-8b5f-58dbf9e2d4e7 button');\n",
              "      quickchartButtonEl.style.display =\n",
              "        google.colab.kernel.accessAllowed ? 'block' : 'none';\n",
              "    })();\n",
              "  </script>\n",
              "</div>\n",
              "\n",
              "    </div>\n",
              "  </div>\n"
            ],
            "application/vnd.google.colaboratory.intrinsic+json": {
              "type": "dataframe",
              "variable_name": "df",
              "summary": "{\n  \"name\": \"df\",\n  \"rows\": 962,\n  \"fields\": [\n    {\n      \"column\": \"Category\",\n      \"properties\": {\n        \"dtype\": \"category\",\n        \"num_unique_values\": 25,\n        \"samples\": [\n          \"Civil Engineer\",\n          \"DevOps Engineer\",\n          \"Data Science\"\n        ],\n        \"semantic_type\": \"\",\n        \"description\": \"\"\n      }\n    },\n    {\n      \"column\": \"Resume\",\n      \"properties\": {\n        \"dtype\": \"category\",\n        \"num_unique_values\": 166,\n        \"samples\": [\n          \"KEY COMPETENCIES \\u00e2\\u009c\\u00b6Multi - Operations Management\\u00e2\\u009c\\u00b6People Management \\u00e2\\u009c\\u00b6Customer Services - Emails \\u00e2\\u009c\\u00b6 MIS \\u00e2\\u009c\\u00b6Vendor & Client Services Management\\u00e2\\u009c\\u00b6Cross Functional Coordination\\u00e2\\u009c\\u00b6Banking & Financial Services\\u00e2\\u009c\\u00b6 Transaction Monitoring * ATM Operations \\u00e2\\u009c\\u00b6 & Prepaid Card Operations (Pre-Issuance & Post-Issuance) \\u00e2\\u009c\\u00b6 POS Operations * JOB PROFILE & SKILLS: \\u00e2\\u0080\\u00a2 An effective communicator with excellent relationship building & interpersonal skills. Strong analytical, problem solving & organizational abilities. \\u00e2\\u0080\\u00a2 Extensive experience in managing operations with demonstrated leadership qualities & organisational skills during the tenure. \\u00e2\\u0080\\u00a2 Managing customer centric operations & ensuring customer satisfaction by achieving service quality norms. \\u00e2\\u0080\\u00a2 Analyzing of all operational problems, customer complaints and take preventive and corrective actions to resolve the same. \\u00e2\\u0080\\u00a2 Receive and respond to Key customer inquiries in an effective manner and provide relevant and timely information. \\u00e2\\u0080\\u00a2 Deft in steering banking back-end operations, analyzing risks and managing delinquencies with dexterity across applying techniques for maximizing recoveries and minimizing credit losses. \\u00e2\\u0080\\u00a2 Analyzed & identified training needs of the team members and developing, organizing and conducting training programs and manage bottom quartile team to improve their performance. \\u00e2\\u0080\\u00a2 Preparing and maintaining daily MIS reports to evaluate the performance and efficiency of the process relate to various verticals. \\u00e2\\u0080\\u00a2 Measuring the performance of the processes in terms of efficiency and effectiveness matrix and ensuring adherence to SLA. \\u00e2\\u0080\\u00a2 Major Activities Define processes for Field Services were monitored and necessary checks were executed and controlled. Also measured Vendor SLA by analyzing the TAT of vendors & the Client SLA provided to us. \\u00e2\\u0080\\u00a2 As per company procedures, handling & ensuring vendor's payment issues to be sorted out &payments are processed on quarterly basis. \\u00e2\\u0080\\u00a2 Appropriately plan and execute each skill of operations in accordance with the department's policies and procedures. \\u00e2\\u0080\\u00a2 Manage relationships with business team, software development team and other services to achieve project objectives. Different software Worked till now: - a. CTL prime - Axis Bank Credit Cards b. Insight - For POS Machine technical operations for Amex (MID & TID Generation- ATOS (Venture Infotek) c. Ticket Management System - TATA Communications Private Services Ltd (ATM - NOC Operations) d. Branch Portal (Yalamanchili Software Exports Ltd) - Prepaid Cards (SBI Bank & Zaggle Prepaid Oceans Services Ltd) Zaggle Prepaid Ocean Services Pvt Ltd Oct, 2017 to Till Date Designation: Manager - Operations (Payment Industry - Prepaid Cards - INR) Education Details \\r\\n  Commerce Mumbai, Maharashtra Mumbai University\\r\\nOperations Manager \\r\\n\\r\\nService Manager - Operations (Payment Industry - Prepaid Cards - INR & FTC)\\r\\nSkill Details \\r\\nOPERATIONS- Exprience - 73 months\\r\\nSATISFACTION- Exprience - 48 months\\r\\nTRAINING- Exprience - 24 months\\r\\nNOC- Exprience - 23 months\\r\\nPOINT OF SALE- Exprience - 20 monthsCompany Details \\r\\ncompany - Zaggle Prepaid Ocean Services Pvt Ltd\\r\\ndescription - Card Operations\\r\\ncompany - Yalamanchili Software Exports Ltd\\r\\ndescription - 24*7 Operations Pvt Ltd) Dec 2015 to Feb 2017\\r\\n\\r\\nDesignation: Service Manager - Operations (Payment Industry - Prepaid Cards - INR & FTC)\\r\\n\\r\\nKey Contributions: \\u00e2\\u0080\\u00a2 A result-oriented business professional in planning, executing& managing processes, improving efficiency of operations, team building and detailing process information to determine effective result into operations.\\r\\n\\u00e2\\u0080\\u00a2 Ensuring PINs generation (SLA) is maintained and chargeback cases are raised in perfect timeframe.\\r\\n\\u00e2\\u0080\\u00a2 Managing email customer services properly and ensuring the emails are replied properly. Also, ensuring transaction monitoring is properly managed 24/7.\\r\\n\\u00e2\\u0080\\u00a2 Assisting Bankers (SBI & Associated Banks) for their BCP plans by getting executed in the system with the help of DR-PR plans & vice versa or any other business requirements.\\r\\n\\u00e2\\u0080\\u00a2 Expertise in maintaining highest level of quality in operations; ensuring adherence to all the quality parameters and procedures as per the stringent norms.\\r\\n\\u00e2\\u0080\\u00a2 Lead, manage and supervise the execution of external audit engagements and responsible for presenting the findings & developing a quality reports to the senior Management and Clients.\\r\\n\\u00e2\\u0080\\u00a2 Coach/mentor (20) team members to perform at a higher level by giving opportunities, providing timely continuous feedback and working with staff to improve their communication, time management, decision making, organization, and analytical skills.\\r\\n\\u00e2\\u0080\\u00a2 Providing the solutions and services to the client in their own premises with aforesaid count of team members.\\r\\n\\u00e2\\u0080\\u00a2 Also ensuring end to end process of PR & DR as per client requirements (PR- DR & DR -PR) by interacting with internal & external stakeholders.\\r\\n\\u00e2\\u0080\\u00a2 Determining process gaps and designing & conducting training programs to enhance operational efficiency and retain talent by providing optimum opportunities for personal and professional growth.\\r\\ncompany - Credit Cards\\r\\ndescription - Ensured highest standard of customer satisfaction and quality service; developing new policies and procedures to improve based on customer feedback and resolving customer queries via correspondence, inbound calls & email channels with the strength of (12-16) Team members.\\r\\ncompany - AGS Transact Technologies Limited\\r\\ndescription - Key Contributions: Lead - SPOC to Banks\\r\\ncompany - TATA Communications Payment Solutions Ltd\\r\\ndescription - To make ATMs operational within TAT by analyzing the issue is technical or non-technical and also by interacting with internal & external stakeholders.\\r\\ncompany - Vertex Customer Solutions India Private Ltd\\r\\ndescription - Key Contributions: \\u00e2\\u0080\\u00a2 Build positive working relationship with all team members and clients by keeping Management informed   of KYC document collection & con-current audit progress, responding timely to Management inquiries, understanding the business and conducting self professionally.\\r\\ncompany - Financial Inclusion Network & Operations Limited\\r\\ndescription - Key Contributions: POS-Operations \\u00e2\\u0080\\u00a2 Cascading the adherence of process is strictly followed by team members & training them to reduce the downtime.\\r\\n\\u00e2\\u0080\\u00a2 Managing Stock of EDC Terminals \\u00e2\\u0080\\u00a2 Managing Deployments of terminals through Multiple teams \\u00e2\\u0080\\u00a2 Would have worked with multiple terminal make & model \\u00e2\\u0080\\u00a2 Managing Inward, Outward & QC of applications installed in the POS machines.\\r\\ncompany - Venture Infotek Private Ltd\\r\\ndescription - Key Contributions: POS-Operations\\r\\ncompany - Axis Bank Ltd - Customer Services\\r\\ndescription - Aug 2006 to Oct 2009 (Ma-Foi&I- smart)\\r\\n\\r\\nDesignation: Team Leader/Executive - Emails, Phone Banking & Correspondence Unit (Snail Mails)\",\n          \"Skill Set: Hadoop, Map Reduce, HDFS, Hive, Sqoop, java. Duration: 2016 to 2017. Role: Hadoop Developer Rplus offers an quick, simple and powerful cloud based Solution, Demand Sense to accurately predict demand for your product in all your markets which Combines Enterprise and External Data to predict demand more accurately through Uses Social Conversation and Sentiments to derive demand and Identifies significant drivers of sale out of hordes of factors that Selects the best suited model out of multiple forecasting models for each product. Responsibilities: \\u00e2\\u0080\\u00a2 Involved in deploying the product for customers, gathering requirements and algorithm optimization at backend of the product. \\u00e2\\u0080\\u00a2 Load and transform Large Datasets of structured semi structured. \\u00e2\\u0080\\u00a2 Responsible to manage data coming from different sources and application \\u00e2\\u0080\\u00a2 Supported Map Reduce Programs those are running on the cluster \\u00e2\\u0080\\u00a2 Involved in creating Hive tables, loading with data and writing hive queries which will run internally in map reduce way.Education Details \\r\\n\\r\\nHadoop Developer \\r\\n\\r\\nHadoop Developer - Braindatawire\\r\\nSkill Details \\r\\nAPACHE HADOOP HDFS- Exprience - 49 months\\r\\nAPACHE HADOOP SQOOP- Exprience - 49 months\\r\\nHadoop- Exprience - 49 months\\r\\nHADOOP- Exprience - 49 months\\r\\nHADOOP DISTRIBUTED FILE SYSTEM- Exprience - 49 monthsCompany Details \\r\\ncompany - Braindatawire\\r\\ndescription - Technical Skills:\\r\\n\\u00e2\\u0080\\u00a2   Programming: Core Java, Map Reduce, Scala\\r\\n\\u00e2\\u0080\\u00a2   Hadoop Tools: HDFS, Spark, Map Reduce, Sqoop, Hive, Hbase\\r\\n\\u00e2\\u0080\\u00a2   Database: MySQL, Oracle\\r\\n\\u00e2\\u0080\\u00a2   Scripting: Shell Scripting\\r\\n\\u00e2\\u0080\\u00a2   IDE: Eclipse\\r\\n\\u00e2\\u0080\\u00a2   Operating Systems: Linux (CentOS), Windows\\r\\n\\u00e2\\u0080\\u00a2   Source Control: Git (Github)\",\n          \"IT Skills: Area Exposure Modeling Tool: Bizagi, MS Visio Prototyping Tool: Indigo Studio. Documentation: MS Office (MS Word, MS Excel, MS Power Point) Testing Proficiency: Smoke, Sanity, Integration, Functional, Acceptance and UI Methodology implemented: Waterfall, Agile (Scrum) Database: SQL Testing Tool: HPQC Business Exposure Education Details \\r\\n Bachelor Of Computer Engineering Computer Engineering Mumbai, Maharashtra Thadomal Shahani Engineering college\\r\\n Diploma Computer Engineering Ulhasnagar, Maharashtra Institute of Technology\\r\\n Secondary School Certificate  Ulhasnagar, Maharashtra New English High School\\r\\nSenior Business Analyst - RPA \\r\\n\\r\\nSenior Business Analyst - RPA - Hexaware Technologies\\r\\nSkill Details \\r\\nDOCUMENTATION- Exprience - 47 months\\r\\nTESTING- Exprience - 29 months\\r\\nINTEGRATION- Exprience - 25 months\\r\\nINTEGRATOR- Exprience - 25 months\\r\\nPROTOTYPE- Exprience - 13 monthsCompany Details \\r\\ncompany - Hexaware Technologies\\r\\ndescription - Working as a RPA Business Analyst\\r\\ncompany - BBH- Brown Brothers Harriman & Co\\r\\ndescription - is a private bank that provides commercial banking, investment management, brokerage, and trust services to private companies and individuals. It also performs merger advisory, foreign exchange, custody services, commercial banking, and corporate financing services.\\r\\n\\r\\nResponsibilities: \\u00e2\\u0080\\u00a2 Performed Automation Assessment of various Processes and identified processes which can be candidates of RPA.\\r\\n\\u00e2\\u0080\\u00a2 Conducting Assessment that involves an initial Understanding of the Existing System, their technology, processes, Usage of the tools, Feasibility of tool with automation tool along with automation ROI analysis.\\r\\n\\u00e2\\u0080\\u00a2 Preparing the Automation Potential Sheet which describes the steps in the process, the volume and frequency of the transaction, the AHT taken by SME to perform the process and depending on the steps that could be automated, Automation potential and the manual efforts that will be saved are calculated.\\r\\nCalculating the complexity of the Process which is considered for automation and depending on all these factors Number of Bots and Number of Automation tool Licenses are determined.\\r\\n\\u00e2\\u0080\\u00a2 Implementing a Proof of Concept (POC) to Validate Feasibility by executing the selected critical use cases for conducting a POC which will helps to identify financial and operational benefits and provide recommendations regarding the actual need for complete automation.\\r\\n\\u00e2\\u0080\\u00a2 Gathering business requirements by conducting detailed interviews with business users, stakeholders, and Subject Matter Experts (SME's) \\u00e2\\u0080\\u00a2 Preparing Business Requirement Document and then converted Business requirements into Functional Requirements Specification.\\r\\n \\u00e2\\u0080\\u00a2 Constructing prototype early toward a design acceptable to the customer and feasible.\\r\\n\\u00e2\\u0080\\u00a2 Assisting in designing test plans, test scenarios and test cases for integration, regression, and user acceptance testing (UAT) to improve the overall quality of the Automation.\\r\\n\\u00e2\\u0080\\u00a2 Participating regularly in Walkthroughs and Review meetings with Project Manager, QA Engineers, and Development team.\\r\\n\\u00e2\\u0080\\u00a2 Regularly interacting with offshore and onshore development teams.\\r\\ncompany - FADV - First Advantage\\r\\ndescription - is a criminal background check company that delivers global solutions ranging from employment screenings to background checks.\\r\\nThe following are the processes which were covered:\\r\\nEmail Process, Research Process, Review Process.\\r\\n\\r\\nResponsibilities: \\u00e2\\u0080\\u00a2 Requirement Gathering through conducting Interviews & Brainstorming sessions with stakeholders \\u00e2\\u0080\\u00a2 To develop decision models and execute those rules as per the use case specifications.\\r\\n\\u00e2\\u0080\\u00a2 To Test/validate the decision models against document test data.\\r\\n\\u00e2\\u0080\\u00a2 To maintain and enhance the decision models for changes in regulations as per use case specifications.\\r\\n\\u00e2\\u0080\\u00a2 Responsible for performing the business research that will make a business growth.\\r\\n\\u00e2\\u0080\\u00a2 Developing a clear understanding of existing business functions and processes.\\r\\n\\u00e2\\u0080\\u00a2 Effectively communicate with the onsite clients for the queries, suggestions, and update.\\r\\n\\u00e2\\u0080\\u00a2 Giving suggestions to enhance the current processes.\\r\\n\\u00e2\\u0080\\u00a2 Identifying areas for process improvement.\\r\\n\\u00e2\\u0080\\u00a2 Flagging up potential problems at an early stage.\\r\\n\\u00e2\\u0080\\u00a2 Preparing PowerPoint presentations and documents for business meetings.\\r\\n\\u00e2\\u0080\\u00a2 Using any information gathered to write up detailed reports.\\r\\n\\u00e2\\u0080\\u00a2 Highlighting risks and issues that could impact project delivery.\\r\\n\\u00e2\\u0080\\u00a2 Able to work accurately.\\r\\n\\u00e2\\u0080\\u00a2 To develop and maintain documentation for internal team training and client end user operations.\\r\\n\\u00e2\\u0080\\u00a2 To work efficiently with team members and across teams.\\r\\n\\u00e2\\u0080\\u00a2 To mentor and train junior team members.\\r\\ncompany - Clinical Testing, Lab Work and Diagnostic Testing\\r\\ndescription - IQVIA provides services to its customers this includes: Clinical Testing, Lab Work and Diagnostic Testing under clinical trial. These customers need to pay to IQVIA and aging details and invoices are generated for the same.\\r\\nThe following are the processes which were covered:\\r\\n\\r\\nTracking Payments, Automated Real Time Metrics Reporting (Dashboard), Past Due Notifications, AR Statements, Credit/Rebill.\\r\\nResponsibilities: \\u00e2\\u0080\\u00a2 Conducting meetings with clients and key stakeholders to gather requirements, analyze, finalize and have formal sign-offs from approvers Gather and perform analysis of the business requirements \\u00e2\\u0080\\u00a2 Translating the business requirements into the Business Requirement Document [BRD], Functional Requirement Document [FRD].\\r\\n\\u00e2\\u0080\\u00a2 Facilitating meetings with the appropriate subject matter experts in both business and technology teams \\u00e2\\u0080\\u00a2 Coordinating with business user community for the execution of user acceptance test as well as tracking issues \\u00e2\\u0080\\u00a2 Working, collaborating and coordinating with Offshore and Onsite team members to fulfill the BA responsibilities from project initiation to Post-Implementation \\u00e2\\u0080\\u00a2 Reviewing the test scripts with business users as well as technology team. Execute test scripts with expected results for the System Integration Test (SIT) and User Acceptance Test (UAT) \\u00e2\\u0080\\u00a2 Coordinating and conducting the Production Acceptance Testing (PAT) with the business users \\u00e2\\u0080\\u00a2 Creating flow diagrams, structure charts, and other types of system or process representations \\u00e2\\u0080\\u00a2 Managing changes to requirements and baseline through a change control process \\u00e2\\u0080\\u00a2 Utilizing standard methods, design and testing tools throughout project development life cycle \\u00e2\\u0080\\u00a2 Work closely with the operational functional teams, operations management, and personnel, and various technology teams to facilitate a shared understanding of requirements and priorities across all areas\\r\\ncompany - Eduavenir IT Solution\\r\\ndescription - Project: M.B.M.S\\r\\n\\r\\nM.B.M.S. - is an Inventory management application that allows user to manage inventory details of different warehouses, having different products located at various locations and help extract what goods have been procured, sold or returned by customers. It generates automated invoicesalong withcustomized reports. It also managescustomer complaint and resolution system implementation along with automated MIS on monthly basis.Sales and forecastingis also developed on MIS System and the streamlining of process of warehousing and dispatch along with online proof of delivery management system (POD documentation) is generated.\\r\\n\\r\\nResponsibilities: \\u00e2\\u0080\\u00a2 Participate in requirement gathering discussion with client to understand the flow of business processes \\u00e2\\u0080\\u00a2 Analyze the requirements and determine the core processes, develop Process Documentation and ensure to stay up-to-date in conjunction with on-going changes \\u00e2\\u0080\\u00a2 Participate in process flow analysis and preparing BRD, SRS.\\r\\n\\u00e2\\u0080\\u00a2 Coordinating with developers, designers & operations teams for various nuances of the project, communicate the stakeholder requirements from requirement /enhancement to implementation and finally deliver the same within estimated timeframe.\\r\\n\\u00e2\\u0080\\u00a2 Support UAT by reviewing test cases, manage version control of documents, software builds.\\r\\n\\u00e2\\u0080\\u00a2 Coordinate with the stakeholders for UAT sign off and coordinate internally for production movement till Golive stage of the application.\\r\\n\\u00e2\\u0080\\u00a2 Provide demo and training to internal and end user using PowerPoint presentation.\\r\\n\\u00e2\\u0080\\u00a2 Resolving project functional &technical issues during UAT.\\r\\n\\u00e2\\u0080\\u00a2 Prioritizing the Production bugs and resolving the same within the estimated timeframe.\\r\\n\\u00e2\\u0080\\u00a2 Preparing Project Status Report and Production Bugs Status to all the stakeholders.\\r\\n\\u00e2\\u0080\\u00a2 Promoting and Networking for online trading platform.\\r\\n\\u00e2\\u0080\\u00a2 Designing query sheet for obtaining and comparison of quotes from various vendors.\\r\\n\\u00e2\\u0080\\u00a2 Development of product codes / material codes for inventory management (Master Data Management)\\r\\ncompany - CAPGEMINI Head Office\\r\\ndescription - Type: Mobile and Device Testing.       Duration: January 2014 - August 2014\\r\\n\\r\\nFollet - An application which takes an electronic request from the user for the books he requires from a particular follet store. This detailed information about books that will include the name of the book, its price, the date of the transaction and the parties involved which will then be sent to follet stores. User then create request for one or more books for a given date. This request is then processed further and user gets a mail of the date when he will be provided with that book.\\r\\n\\r\\nResponsibilities: \\u00e2\\u0080\\u00a2 Understanding the needs and business requirements.\\r\\n\\u00e2\\u0080\\u00a2 Preparing BRD, SRS by eliciting all the requirements from the client and SMEs \\u00e2\\u0080\\u00a2 Understanding the dependency of the modules in the system \\u00e2\\u0080\\u00a2 Preparation of test plan for Unit level and Integration level.\\r\\n\\u00e2\\u0080\\u00a2 Preparation and execution of test cases.\\r\\n\\u00e2\\u0080\\u00a2 Defect tracking, Issue Resolution, Risk Monitoring, Status Tracking, Reporting and Follow-up.\\r\\n\\u00e2\\u0080\\u00a2 Preparation of Test Completion report.\\r\\ncompany - CAPGEMINI Head Office\\r\\ndescription - \\r\\ncompany - CAPGEMINI Head Office\\r\\ndescription - Humana is a health care insurance project of U.S. which deals with supplying various medicines to citizens as per the doctor's reference and patient's insurance policy. This application keeps track of all the medicines user has consumed in the past and generates a patient history. A citizen is given a drug only after the doctor's reference so the doctor's information is also linked with the patient's history.\\r\\n\\r\\nResponsibilities: \\u00e2\\u0080\\u00a2 Understanding the requirements and getting clarifications from client.\\r\\n\\u00e2\\u0080\\u00a2 Involved in writing test cases based on test scenarios and execute them.\\r\\n\\u00e2\\u0080\\u00a2 Ensuring Test Coverage using Requirement Traceability Matrix (RTM) \\u00e2\\u0080\\u00a2 Preparation of Test Completion report.\\r\\ncompany - CAPGEMINI Head Office\\r\\ndescription - Testing Trends WQR (World Quality Report) is an application which allows the users to take a survey on different methods and technologies used for testing. Users can choose to answer any type of questions under three different categories. Users have a facility to search, view and export the data to excel. Also, users get daily and weekly reports through email about the new trends in testing implemented around the globe. Testing Trends WQR app is available on Android and IOS platforms.\\r\\n\\r\\nResponsibilities: \\u00e2\\u0080\\u00a2 Understanding the requirements and getting clarifications from client.\\r\\n\\u00e2\\u0080\\u00a2 Writing test cases based on test scenarios and executed them.\\r\\n\\u00e2\\u0080\\u00a2 Performing different types of testing such as Functional, Integration, System, and UAT.\\r\\n\\u00e2\\u0080\\u00a2 Defect resolution and maintenance of the application.\"\n        ],\n        \"semantic_type\": \"\",\n        \"description\": \"\"\n      }\n    }\n  ]\n}"
            }
          },
          "metadata": {},
          "execution_count": 4
        }
      ],
      "source": [
        "df = pd.read_csv('UpdatedResumeDataSet.csv')\n",
        "df.head()"
      ]
    },
    {
      "cell_type": "code",
      "execution_count": null,
      "id": "9cffbced-0326-4556-aa9a-1a3efc86d1b9",
      "metadata": {
        "colab": {
          "base_uri": "https://localhost:8080/",
          "height": 640
        },
        "id": "9cffbced-0326-4556-aa9a-1a3efc86d1b9",
        "outputId": "8f5834c4-4e4d-429c-9f9e-407495b3072f"
      },
      "outputs": [
        {
          "output_type": "execute_result",
          "data": {
            "text/plain": [
              "    Category  \\\n",
              "957  Testing   \n",
              "958  Testing   \n",
              "959  Testing   \n",
              "960  Testing   \n",
              "961  Testing   \n",
              "\n",
              "                                                                                                                                                                                                                                                                                                                                                                                                                                                                                                                                                                                                                                                                                                                                                                                                                              Resume  \n",
              "957  Computer Skills: â¢ Proficient in MS office (Word, Basic Excel, Power point) Strength: â¢ Hard working, Loyalty & Creativity â¢ Self-motivated, Responsible & Initiative â¢ Good people management skill & positive attitude. â¢ knowledge of windows, Internet.Education Details \\r\\n Bachelor of Electrical Engineering Electrical Engineering Nashik, Maharashtra Guru Gobind Singh College of Engineering and Research Centre\\r\\n Diploma Electrical Engineering Nashik, Maharashtra S. M. E. S. Polytechnic College\\r\\nTesting Engineer \\r\\n\\r\\n\\r\\nSkill Details \\r\\nEXCEL- Exprience - 6 months\\r\\nMS OFFICE- Exprience - 6 months\\r\\nWORD- Exprience - 6 monthsCompany Details \\r\\ncompany - \\r\\ndescription - Department: Testing\\r\\n\\r\\nResponsibilities: â¢ To check ACB and VCB of  Circuit Breaker.\\r\\nâ...  \n",
              "958  â Willingness to accept the challenges. â Positive thinking. â Good learner. â Team Player. DECLARATION: I hereby declare that the above mentioned information is correct up to my knowledge and I bear the responsibility for the correctness of the above mentioned particulars. Date: / / Name: Dongare Mandakini Murlidhar Signature: Education Details \\r\\nJune 2015 Electronics and Telecommunication Engineering  Kolhapur, Maharashtra Shivaji University\\r\\nJune 2012  Education  Secondary and Higher Secondary\\r\\n B.E. Electronics and Telecommunication  Jaywant College of Engineering and Management\\r\\nTesting Engineer \\r\\n\\r\\nElectronics Engineer - Abacus Electronics Pvt Ltd\\r\\nSkill Details \\r\\nLanguage - C, C++- Exprience - Less than 1 year months\\r\\nOperating Systems- Windows 7-8/NT/X...  \n",
              "959  PERSONAL SKILLS â¢ Quick learner, â¢ Eagerness to learn new things, â¢ Competitive attitude, â¢ Good leadership qualities, â¢ Ability to deal with people diplomatically. PERSONAL DOSSIER Fathers Name: Dhanraj WaghEducation Details \\r\\nJanuary 2012 to January 2016 Bachelors of Engineering Engineering Pune, Maharashtra Pune University\\r\\nJanuary 2012 Higher Secondary Certificate  Nashik, Maharashtra SND College of Engineering and Research Center\\r\\nJanuary 2010 Secondary School Certificate  Yeola, Maharashtra Swami Muktanand Jr. College\\r\\n HSC   Maharashtra State Board\\r\\n SSC   Maharashtra State Bard\\r\\n BE  Rajapur, Uttar Pradesh Madhyamik Vidya Mandir Rajapur\\r\\nTesting and Quality Control Engineer \\r\\n\\r\\nTesting and Quality Control Engineer - M/S Rakesh Transformer Industries ...  \n",
              "960        COMPUTER SKILLS & SOFTWARE KNOWLEDGE MS-Power Point, MS - Office, C, Protius (PCB Design), Multisim, Micro wind, Matlab, Keil, Latex, Basic I nternet Fundamentals, Software and Hardware Knowledge PROJECT DETAILS Diploma Project: Speed Control of DC Motor Using Heart Beats. Mini Project: Water Gardening System Using Solar Panel. Final Year BE Project: Iris Recognition system.Education Details \\r\\nJanuary 2016 BE EDUCATION Pune, Maharashtra PUNE University\\r\\nJanuary 2010 SSC   Maharashtra Board\\r\\nQuality Engineer \\r\\n\\r\\nQuality Engineer - Matrix Technologies\\r\\nSkill Details \\r\\nMATLAB- Exprience - 6 months\\r\\nPCB- Exprience - 6 months\\r\\nPCB DESIGN- Exprience - 6 monthsCompany Details \\r\\ncompany - Matrix Technologies\\r\\ndescription - \\r\\ncompany - RB Electronics\\r\\ndescription -   \n",
              "961  Skill Set OS Windows XP/7/8/8.1/10 Database MYSQL, sql server 2005, 2008 & 2012 Languages Core Java Web Technology HTML, CSS Testing Manual Testing, Database Testing Other Bug tracking and reporting, End user handling.Education Details \\r\\nJanuary 2016 MCS  Pune, Maharashtra P.V.P College Pravaranagar\\r\\nJanuary 2011 HSC   A.K.Junior College\\r\\nJanuary 2009 SSC   A.K.Mahavidyalya\\r\\nJR TESTING ENGINEER \\r\\n\\r\\nJR TESTING ENGINEER - M-Tech Innovations Ltd\\r\\nSkill Details \\r\\nTESTING- Exprience - 24 months\\r\\nWINDOWS XP- Exprience - 24 months\\r\\nCSS- Exprience - 6 months\\r\\nDATABASE- Exprience - 6 months\\r\\nDATABASE TESTING- Exprience - 6 monthsCompany Details \\r\\ncompany - M-Tech Innovations Ltd\\r\\ndescription - Responsibilities â¢     Analyzing the Testing Requirements â¢     Prepar...  "
            ],
            "text/html": [
              "\n",
              "  <div id=\"df-04d40314-daed-4504-b8a8-bdf9e29c9d4b\" class=\"colab-df-container\">\n",
              "    <div>\n",
              "<style scoped>\n",
              "    .dataframe tbody tr th:only-of-type {\n",
              "        vertical-align: middle;\n",
              "    }\n",
              "\n",
              "    .dataframe tbody tr th {\n",
              "        vertical-align: top;\n",
              "    }\n",
              "\n",
              "    .dataframe thead th {\n",
              "        text-align: right;\n",
              "    }\n",
              "</style>\n",
              "<table border=\"1\" class=\"dataframe\">\n",
              "  <thead>\n",
              "    <tr style=\"text-align: right;\">\n",
              "      <th></th>\n",
              "      <th>Category</th>\n",
              "      <th>Resume</th>\n",
              "    </tr>\n",
              "  </thead>\n",
              "  <tbody>\n",
              "    <tr>\n",
              "      <th>957</th>\n",
              "      <td>Testing</td>\n",
              "      <td>Computer Skills: â¢ Proficient in MS office (Word, Basic Excel, Power point) Strength: â¢ Hard working, Loyalty &amp; Creativity â¢ Self-motivated, Responsible &amp; Initiative â¢ Good people management skill &amp; positive attitude. â¢ knowledge of windows, Internet.Education Details \\r\\n Bachelor of Electrical Engineering Electrical Engineering Nashik, Maharashtra Guru Gobind Singh College of Engineering and Research Centre\\r\\n Diploma Electrical Engineering Nashik, Maharashtra S. M. E. S. Polytechnic College\\r\\nTesting Engineer \\r\\n\\r\\n\\r\\nSkill Details \\r\\nEXCEL- Exprience - 6 months\\r\\nMS OFFICE- Exprience - 6 months\\r\\nWORD- Exprience - 6 monthsCompany Details \\r\\ncompany - \\r\\ndescription - Department: Testing\\r\\n\\r\\nResponsibilities: â¢ To check ACB and VCB of  Circuit Breaker.\\r\\nâ...</td>\n",
              "    </tr>\n",
              "    <tr>\n",
              "      <th>958</th>\n",
              "      <td>Testing</td>\n",
              "      <td>â Willingness to accept the challenges. â Positive thinking. â Good learner. â Team Player. DECLARATION: I hereby declare that the above mentioned information is correct up to my knowledge and I bear the responsibility for the correctness of the above mentioned particulars. Date: / / Name: Dongare Mandakini Murlidhar Signature: Education Details \\r\\nJune 2015 Electronics and Telecommunication Engineering  Kolhapur, Maharashtra Shivaji University\\r\\nJune 2012  Education  Secondary and Higher Secondary\\r\\n B.E. Electronics and Telecommunication  Jaywant College of Engineering and Management\\r\\nTesting Engineer \\r\\n\\r\\nElectronics Engineer - Abacus Electronics Pvt Ltd\\r\\nSkill Details \\r\\nLanguage - C, C++- Exprience - Less than 1 year months\\r\\nOperating Systems- Windows 7-8/NT/X...</td>\n",
              "    </tr>\n",
              "    <tr>\n",
              "      <th>959</th>\n",
              "      <td>Testing</td>\n",
              "      <td>PERSONAL SKILLS â¢ Quick learner, â¢ Eagerness to learn new things, â¢ Competitive attitude, â¢ Good leadership qualities, â¢ Ability to deal with people diplomatically. PERSONAL DOSSIER Fathers Name: Dhanraj WaghEducation Details \\r\\nJanuary 2012 to January 2016 Bachelors of Engineering Engineering Pune, Maharashtra Pune University\\r\\nJanuary 2012 Higher Secondary Certificate  Nashik, Maharashtra SND College of Engineering and Research Center\\r\\nJanuary 2010 Secondary School Certificate  Yeola, Maharashtra Swami Muktanand Jr. College\\r\\n HSC   Maharashtra State Board\\r\\n SSC   Maharashtra State Bard\\r\\n BE  Rajapur, Uttar Pradesh Madhyamik Vidya Mandir Rajapur\\r\\nTesting and Quality Control Engineer \\r\\n\\r\\nTesting and Quality Control Engineer - M/S Rakesh Transformer Industries ...</td>\n",
              "    </tr>\n",
              "    <tr>\n",
              "      <th>960</th>\n",
              "      <td>Testing</td>\n",
              "      <td>COMPUTER SKILLS &amp; SOFTWARE KNOWLEDGE MS-Power Point, MS - Office, C, Protius (PCB Design), Multisim, Micro wind, Matlab, Keil, Latex, Basic I nternet Fundamentals, Software and Hardware Knowledge PROJECT DETAILS Diploma Project: Speed Control of DC Motor Using Heart Beats. Mini Project: Water Gardening System Using Solar Panel. Final Year BE Project: Iris Recognition system.Education Details \\r\\nJanuary 2016 BE EDUCATION Pune, Maharashtra PUNE University\\r\\nJanuary 2010 SSC   Maharashtra Board\\r\\nQuality Engineer \\r\\n\\r\\nQuality Engineer - Matrix Technologies\\r\\nSkill Details \\r\\nMATLAB- Exprience - 6 months\\r\\nPCB- Exprience - 6 months\\r\\nPCB DESIGN- Exprience - 6 monthsCompany Details \\r\\ncompany - Matrix Technologies\\r\\ndescription - \\r\\ncompany - RB Electronics\\r\\ndescription -</td>\n",
              "    </tr>\n",
              "    <tr>\n",
              "      <th>961</th>\n",
              "      <td>Testing</td>\n",
              "      <td>Skill Set OS Windows XP/7/8/8.1/10 Database MYSQL, sql server 2005, 2008 &amp; 2012 Languages Core Java Web Technology HTML, CSS Testing Manual Testing, Database Testing Other Bug tracking and reporting, End user handling.Education Details \\r\\nJanuary 2016 MCS  Pune, Maharashtra P.V.P College Pravaranagar\\r\\nJanuary 2011 HSC   A.K.Junior College\\r\\nJanuary 2009 SSC   A.K.Mahavidyalya\\r\\nJR TESTING ENGINEER \\r\\n\\r\\nJR TESTING ENGINEER - M-Tech Innovations Ltd\\r\\nSkill Details \\r\\nTESTING- Exprience - 24 months\\r\\nWINDOWS XP- Exprience - 24 months\\r\\nCSS- Exprience - 6 months\\r\\nDATABASE- Exprience - 6 months\\r\\nDATABASE TESTING- Exprience - 6 monthsCompany Details \\r\\ncompany - M-Tech Innovations Ltd\\r\\ndescription - Responsibilities â¢     Analyzing the Testing Requirements â¢     Prepar...</td>\n",
              "    </tr>\n",
              "  </tbody>\n",
              "</table>\n",
              "</div>\n",
              "    <div class=\"colab-df-buttons\">\n",
              "\n",
              "  <div class=\"colab-df-container\">\n",
              "    <button class=\"colab-df-convert\" onclick=\"convertToInteractive('df-04d40314-daed-4504-b8a8-bdf9e29c9d4b')\"\n",
              "            title=\"Convert this dataframe to an interactive table.\"\n",
              "            style=\"display:none;\">\n",
              "\n",
              "  <svg xmlns=\"http://www.w3.org/2000/svg\" height=\"24px\" viewBox=\"0 -960 960 960\">\n",
              "    <path d=\"M120-120v-720h720v720H120Zm60-500h600v-160H180v160Zm220 220h160v-160H400v160Zm0 220h160v-160H400v160ZM180-400h160v-160H180v160Zm440 0h160v-160H620v160ZM180-180h160v-160H180v160Zm440 0h160v-160H620v160Z\"/>\n",
              "  </svg>\n",
              "    </button>\n",
              "\n",
              "  <style>\n",
              "    .colab-df-container {\n",
              "      display:flex;\n",
              "      gap: 12px;\n",
              "    }\n",
              "\n",
              "    .colab-df-convert {\n",
              "      background-color: #E8F0FE;\n",
              "      border: none;\n",
              "      border-radius: 50%;\n",
              "      cursor: pointer;\n",
              "      display: none;\n",
              "      fill: #1967D2;\n",
              "      height: 32px;\n",
              "      padding: 0 0 0 0;\n",
              "      width: 32px;\n",
              "    }\n",
              "\n",
              "    .colab-df-convert:hover {\n",
              "      background-color: #E2EBFA;\n",
              "      box-shadow: 0px 1px 2px rgba(60, 64, 67, 0.3), 0px 1px 3px 1px rgba(60, 64, 67, 0.15);\n",
              "      fill: #174EA6;\n",
              "    }\n",
              "\n",
              "    .colab-df-buttons div {\n",
              "      margin-bottom: 4px;\n",
              "    }\n",
              "\n",
              "    [theme=dark] .colab-df-convert {\n",
              "      background-color: #3B4455;\n",
              "      fill: #D2E3FC;\n",
              "    }\n",
              "\n",
              "    [theme=dark] .colab-df-convert:hover {\n",
              "      background-color: #434B5C;\n",
              "      box-shadow: 0px 1px 3px 1px rgba(0, 0, 0, 0.15);\n",
              "      filter: drop-shadow(0px 1px 2px rgba(0, 0, 0, 0.3));\n",
              "      fill: #FFFFFF;\n",
              "    }\n",
              "  </style>\n",
              "\n",
              "    <script>\n",
              "      const buttonEl =\n",
              "        document.querySelector('#df-04d40314-daed-4504-b8a8-bdf9e29c9d4b button.colab-df-convert');\n",
              "      buttonEl.style.display =\n",
              "        google.colab.kernel.accessAllowed ? 'block' : 'none';\n",
              "\n",
              "      async function convertToInteractive(key) {\n",
              "        const element = document.querySelector('#df-04d40314-daed-4504-b8a8-bdf9e29c9d4b');\n",
              "        const dataTable =\n",
              "          await google.colab.kernel.invokeFunction('convertToInteractive',\n",
              "                                                    [key], {});\n",
              "        if (!dataTable) return;\n",
              "\n",
              "        const docLinkHtml = 'Like what you see? Visit the ' +\n",
              "          '<a target=\"_blank\" href=https://colab.research.google.com/notebooks/data_table.ipynb>data table notebook</a>'\n",
              "          + ' to learn more about interactive tables.';\n",
              "        element.innerHTML = '';\n",
              "        dataTable['output_type'] = 'display_data';\n",
              "        await google.colab.output.renderOutput(dataTable, element);\n",
              "        const docLink = document.createElement('div');\n",
              "        docLink.innerHTML = docLinkHtml;\n",
              "        element.appendChild(docLink);\n",
              "      }\n",
              "    </script>\n",
              "  </div>\n",
              "\n",
              "\n",
              "<div id=\"df-a221d62a-12d6-469b-bbe2-4db53f45a2b7\">\n",
              "  <button class=\"colab-df-quickchart\" onclick=\"quickchart('df-a221d62a-12d6-469b-bbe2-4db53f45a2b7')\"\n",
              "            title=\"Suggest charts\"\n",
              "            style=\"display:none;\">\n",
              "\n",
              "<svg xmlns=\"http://www.w3.org/2000/svg\" height=\"24px\"viewBox=\"0 0 24 24\"\n",
              "     width=\"24px\">\n",
              "    <g>\n",
              "        <path d=\"M19 3H5c-1.1 0-2 .9-2 2v14c0 1.1.9 2 2 2h14c1.1 0 2-.9 2-2V5c0-1.1-.9-2-2-2zM9 17H7v-7h2v7zm4 0h-2V7h2v10zm4 0h-2v-4h2v4z\"/>\n",
              "    </g>\n",
              "</svg>\n",
              "  </button>\n",
              "\n",
              "<style>\n",
              "  .colab-df-quickchart {\n",
              "      --bg-color: #E8F0FE;\n",
              "      --fill-color: #1967D2;\n",
              "      --hover-bg-color: #E2EBFA;\n",
              "      --hover-fill-color: #174EA6;\n",
              "      --disabled-fill-color: #AAA;\n",
              "      --disabled-bg-color: #DDD;\n",
              "  }\n",
              "\n",
              "  [theme=dark] .colab-df-quickchart {\n",
              "      --bg-color: #3B4455;\n",
              "      --fill-color: #D2E3FC;\n",
              "      --hover-bg-color: #434B5C;\n",
              "      --hover-fill-color: #FFFFFF;\n",
              "      --disabled-bg-color: #3B4455;\n",
              "      --disabled-fill-color: #666;\n",
              "  }\n",
              "\n",
              "  .colab-df-quickchart {\n",
              "    background-color: var(--bg-color);\n",
              "    border: none;\n",
              "    border-radius: 50%;\n",
              "    cursor: pointer;\n",
              "    display: none;\n",
              "    fill: var(--fill-color);\n",
              "    height: 32px;\n",
              "    padding: 0;\n",
              "    width: 32px;\n",
              "  }\n",
              "\n",
              "  .colab-df-quickchart:hover {\n",
              "    background-color: var(--hover-bg-color);\n",
              "    box-shadow: 0 1px 2px rgba(60, 64, 67, 0.3), 0 1px 3px 1px rgba(60, 64, 67, 0.15);\n",
              "    fill: var(--button-hover-fill-color);\n",
              "  }\n",
              "\n",
              "  .colab-df-quickchart-complete:disabled,\n",
              "  .colab-df-quickchart-complete:disabled:hover {\n",
              "    background-color: var(--disabled-bg-color);\n",
              "    fill: var(--disabled-fill-color);\n",
              "    box-shadow: none;\n",
              "  }\n",
              "\n",
              "  .colab-df-spinner {\n",
              "    border: 2px solid var(--fill-color);\n",
              "    border-color: transparent;\n",
              "    border-bottom-color: var(--fill-color);\n",
              "    animation:\n",
              "      spin 1s steps(1) infinite;\n",
              "  }\n",
              "\n",
              "  @keyframes spin {\n",
              "    0% {\n",
              "      border-color: transparent;\n",
              "      border-bottom-color: var(--fill-color);\n",
              "      border-left-color: var(--fill-color);\n",
              "    }\n",
              "    20% {\n",
              "      border-color: transparent;\n",
              "      border-left-color: var(--fill-color);\n",
              "      border-top-color: var(--fill-color);\n",
              "    }\n",
              "    30% {\n",
              "      border-color: transparent;\n",
              "      border-left-color: var(--fill-color);\n",
              "      border-top-color: var(--fill-color);\n",
              "      border-right-color: var(--fill-color);\n",
              "    }\n",
              "    40% {\n",
              "      border-color: transparent;\n",
              "      border-right-color: var(--fill-color);\n",
              "      border-top-color: var(--fill-color);\n",
              "    }\n",
              "    60% {\n",
              "      border-color: transparent;\n",
              "      border-right-color: var(--fill-color);\n",
              "    }\n",
              "    80% {\n",
              "      border-color: transparent;\n",
              "      border-right-color: var(--fill-color);\n",
              "      border-bottom-color: var(--fill-color);\n",
              "    }\n",
              "    90% {\n",
              "      border-color: transparent;\n",
              "      border-bottom-color: var(--fill-color);\n",
              "    }\n",
              "  }\n",
              "</style>\n",
              "\n",
              "  <script>\n",
              "    async function quickchart(key) {\n",
              "      const quickchartButtonEl =\n",
              "        document.querySelector('#' + key + ' button');\n",
              "      quickchartButtonEl.disabled = true;  // To prevent multiple clicks.\n",
              "      quickchartButtonEl.classList.add('colab-df-spinner');\n",
              "      try {\n",
              "        const charts = await google.colab.kernel.invokeFunction(\n",
              "            'suggestCharts', [key], {});\n",
              "      } catch (error) {\n",
              "        console.error('Error during call to suggestCharts:', error);\n",
              "      }\n",
              "      quickchartButtonEl.classList.remove('colab-df-spinner');\n",
              "      quickchartButtonEl.classList.add('colab-df-quickchart-complete');\n",
              "    }\n",
              "    (() => {\n",
              "      let quickchartButtonEl =\n",
              "        document.querySelector('#df-a221d62a-12d6-469b-bbe2-4db53f45a2b7 button');\n",
              "      quickchartButtonEl.style.display =\n",
              "        google.colab.kernel.accessAllowed ? 'block' : 'none';\n",
              "    })();\n",
              "  </script>\n",
              "</div>\n",
              "\n",
              "    </div>\n",
              "  </div>\n"
            ],
            "application/vnd.google.colaboratory.intrinsic+json": {
              "type": "dataframe",
              "summary": "{\n  \"name\": \"df\",\n  \"rows\": 5,\n  \"fields\": [\n    {\n      \"column\": \"Category\",\n      \"properties\": {\n        \"dtype\": \"category\",\n        \"num_unique_values\": 1,\n        \"samples\": [\n          \"Testing\"\n        ],\n        \"semantic_type\": \"\",\n        \"description\": \"\"\n      }\n    },\n    {\n      \"column\": \"Resume\",\n      \"properties\": {\n        \"dtype\": \"string\",\n        \"num_unique_values\": 5,\n        \"samples\": [\n          \"\\u00e2\\u009d\\u0096 Willingness to accept the challenges. \\u00e2\\u009d\\u0096 Positive thinking. \\u00e2\\u009d\\u0096 Good learner. \\u00e2\\u009d\\u0096 Team Player. DECLARATION: I hereby declare that the above mentioned information is correct up to my knowledge and I bear the responsibility for the correctness of the above mentioned particulars. Date: / / Name: Dongare Mandakini Murlidhar Signature: Education Details \\r\\nJune 2015 Electronics and Telecommunication Engineering  Kolhapur, Maharashtra Shivaji University\\r\\nJune 2012  Education  Secondary and Higher Secondary\\r\\n B.E. Electronics and Telecommunication  Jaywant College of Engineering and Management\\r\\nTesting Engineer \\r\\n\\r\\nElectronics Engineer - Abacus Electronics Pvt Ltd\\r\\nSkill Details \\r\\nLanguage - C, C++- Exprience - Less than 1 year months\\r\\nOperating Systems- Windows 7-8/NT/XP- Exprience - Less than 1 year monthsCompany Details \\r\\ncompany - Abacus Electronics Pvt Ltd\\r\\ndescription - Duties:\\r\\n\\u00e2\\u009d\\u0096 Perform electronic system testing for acceptance, compliance, warranty and other types.\\r\\n\\u00e2\\u009d\\u0096 Develop test plan and procedure for electronic systems.\\r\\n\\u00e2\\u009d\\u0096 Maintain complete and accurate documentations for system testing.\\r\\n\\u00e2\\u009d\\u0096 Analyze and troubleshoot test defects in a timely fashion.\\r\\n\\u00e2\\u009d\\u0096 Write system assembly instructions and resolve assembly issues accurately.\\r\\n\\u00e2\\u009d\\u0096 Work with Supervisors to plan and coordinate test activities.\\r\\n\\u00e2\\u009d\\u0096 Evaluate system performance and suggest improvements.\\r\\n\\u00e2\\u009d\\u0096 Understand and interpret drawings, schematics, technical manuals and instructions.\\r\\n\\u00e2\\u009d\\u0096 Also performed Hardware testing, debugging of hardware PCBs.\\r\\n\\u00e2\\u009d\\u0096 Follow company policies and safely regulations.\\r\\n\\u00e2\\u009d\\u0096 Work with cross-functional teams to complete assigned job duties within deadlines.\\r\\n\\u00e2\\u009d\\u0096 Recommend process improvements to enhance testing efficiency.\\r\\ncompany - Minilec India Pvt Ltd , Pirangoot.\\r\\ndescription - \\u00ef\\u0081\\u00b6\\tTaking responsibility for the quality of a company\\u00e2\\u0080\\u0099s product.\\r\\n\\u00ef\\u0081\\u00b6\\tWorking with the departmental manager, production staff and suppliers to ensure quality, they aim to minimize the cost of reworking or waste and maximize customer satisfaction with the product.\\r\\n\\u00ef\\u0081\\u00b6\\tTo establish, implement and maintain quality management system to measure and control quality in the production process.\\r\\n\\u00ef\\u0081\\u00b6\\tWork with the aim that to eliminate the causes of quality issues and reduce the risk of failure.\"\n        ],\n        \"semantic_type\": \"\",\n        \"description\": \"\"\n      }\n    }\n  ]\n}"
            }
          },
          "metadata": {},
          "execution_count": 5
        }
      ],
      "source": [
        "pd.set_option('max_colwidth', 800)\n",
        "df.tail()"
      ]
    },
    {
      "cell_type": "code",
      "execution_count": null,
      "id": "57ac849c-3a87-4454-955b-3c042002ce4c",
      "metadata": {
        "colab": {
          "base_uri": "https://localhost:8080/"
        },
        "id": "57ac849c-3a87-4454-955b-3c042002ce4c",
        "outputId": "a10309f9-196a-42cc-bfbd-59c54ce81830"
      },
      "outputs": [
        {
          "output_type": "execute_result",
          "data": {
            "text/plain": [
              "25"
            ]
          },
          "metadata": {},
          "execution_count": 6
        }
      ],
      "source": [
        "len(df.Category.value_counts())"
      ]
    },
    {
      "cell_type": "code",
      "execution_count": null,
      "id": "55195e87-6960-4e95-8453-266e582fabb3",
      "metadata": {
        "colab": {
          "base_uri": "https://localhost:8080/",
          "height": 649
        },
        "id": "55195e87-6960-4e95-8453-266e582fabb3",
        "outputId": "08ff48cf-cf30-4588-e999-e3f0f51b506e"
      },
      "outputs": [
        {
          "output_type": "stream",
          "name": "stderr",
          "text": [
            "<ipython-input-7-9b24b21f8349>:3: FutureWarning: \n",
            "\n",
            "Passing `palette` without assigning `hue` is deprecated and will be removed in v0.14.0. Assign the `y` variable to `hue` and set `legend=False` for the same effect.\n",
            "\n",
            "  sns.countplot(y=\"Category\" , palette=\"Set3\", data=df, order = df['Category'].value_counts().index);\n"
          ]
        },
        {
          "output_type": "display_data",
          "data": {
            "text/plain": [
              "<Figure size 800x600 with 1 Axes>"
            ],
            "image/png": "[encoded data removed]"
          },
          "metadata": {}
        }
      ],
      "source": [
        "import seaborn as sns\n",
        "plt.figure(figsize=(8,6))\n",
        "sns.countplot(y=\"Category\" , palette=\"Set3\", data=df, order = df['Category'].value_counts().index);"
      ]
    },
    {
      "cell_type": "code",
      "execution_count": null,
      "id": "23e2003d-7e25-431b-ba8e-193bac1a7e3b",
      "metadata": {
        "colab": {
          "base_uri": "https://localhost:8080/",
          "height": 139
        },
        "id": "23e2003d-7e25-431b-ba8e-193bac1a7e3b",
        "outputId": "a8413bd5-ca6c-4b38-8f47-82ea1e96dd28"
      },
      "outputs": [
        {
          "output_type": "execute_result",
          "data": {
            "text/plain": [
              "'Education Details \\r\\nMay 2013 to May 2017 B.E   UIT-RGPV\\r\\nData Scientist \\r\\n\\r\\nData Scientist - Matelabs\\r\\nSkill Details \\r\\nPython- Exprience - Less than 1 year months\\r\\nStatsmodels- Exprience - 12 months\\r\\nAWS- Exprience - Less than 1 year months\\r\\nMachine learning- Exprience - Less than 1 year months\\r\\nSklearn- Exprience - Less than 1 year months\\r\\nScipy- Exprience - Less than 1 year months\\r\\nKeras- Exprience - Less than 1 year monthsCompany Details \\r\\ncompany - Matelabs\\r\\ndescription - ML Platform for business professionals, dummies and enthusiasts.\\r\\n60/A Koramangala 5th block,\\r\\nAchievements/Tasks behind sukh sagar, Bengaluru,\\r\\nIndia                               Developed and deployed auto preprocessing steps of machine learning mainly missing value\\r\\ntreatment, outlier detection, encoding, scaling, feature selection and dimensionality reduction.\\r\\nDeployed automated classification and regression model.\\r\\nlinkedin.com/in/aditya-rathore-\\r\\nb4600b146                           Reasearch and deployed the time series forecasting model ARIMA, SARIMAX, Holt-winter and\\r\\nProphet.\\r\\nWorked on meta-feature extracting problem.\\r\\ngithub.com/rathorology\\r\\nImplemented a state of the art research paper on outlier detection for mixed attributes.\\r\\ncompany - Matelabs\\r\\ndescription - '"
            ],
            "application/vnd.google.colaboratory.intrinsic+json": {
              "type": "string"
            }
          },
          "metadata": {},
          "execution_count": 8
        }
      ],
      "source": [
        "df[\"Resume\"][1]"
      ]
    },
    {
      "cell_type": "code",
      "execution_count": null,
      "id": "353a061e-7ab3-40fe-ad7a-f7014c994c9f",
      "metadata": {
        "colab": {
          "base_uri": "https://localhost:8080/"
        },
        "id": "353a061e-7ab3-40fe-ad7a-f7014c994c9f",
        "outputId": "3ed6957f-d279-4e60-925a-56e62cc7ba3d"
      },
      "outputs": [
        {
          "output_type": "stream",
          "name": "stdout",
          "text": [
            "!\"#$%&'()*+,-./:;<=>?@[\\]^_`{|}~\n"
          ]
        }
      ],
      "source": [
        "from string import punctuation\n",
        "print(punctuation)"
      ]
    },
    {
      "cell_type": "code",
      "execution_count": null,
      "id": "6cec436a-621c-4bbc-b0a0-b9dd5258938c",
      "metadata": {
        "id": "6cec436a-621c-4bbc-b0a0-b9dd5258938c"
      },
      "outputs": [],
      "source": [
        "import re\n",
        "def cleanResume(resumeText):\n",
        "    resumeText = re.sub('[%s]' % re.escape(\"\"\"!\"#$%&'()*+,-./:;<=>?@[\\]^_`{|}~\"\"\"), ' ', resumeText)  # remove punctuations\n",
        "    resumeText = re.sub(r'[^\\x00-\\x7f]',r' ', resumeText) # remove non-ascii characters\n",
        "    resumeText = re.sub('\\s+', ' ', resumeText)  # remove extra whitespace\n",
        "    resumeText = re.sub(r'[0-9]+', '', resumeText)  #remove numbers\n",
        "    return resumeText.lower()"
      ]
    },
    {
      "cell_type": "code",
      "execution_count": null,
      "id": "78e3a646-3e86-42d9-9159-c4d0530e7e1f",
      "metadata": {
        "colab": {
          "base_uri": "https://localhost:8080/"
        },
        "id": "78e3a646-3e86-42d9-9159-c4d0530e7e1f",
        "outputId": "35d732df-b776-4680-a3ad-69f3027a8cd0"
      },
      "outputs": [
        {
          "output_type": "execute_result",
          "data": {
            "text/plain": [
              "1104"
            ]
          },
          "metadata": {},
          "execution_count": 11
        }
      ],
      "source": [
        "df[\"Cleaned Resume\"] = df[\"Resume\"].apply(lambda x: cleanResume(x))\n",
        "len(df[\"Cleaned Resume\"][1])"
      ]
    },
    {
      "cell_type": "code",
      "execution_count": null,
      "id": "0581426f-439c-424b-9eff-f4261fc40754",
      "metadata": {
        "colab": {
          "base_uri": "https://localhost:8080/",
          "height": 254
        },
        "id": "0581426f-439c-424b-9eff-f4261fc40754",
        "outputId": "71b42d66-f212-4f51-b891-c5720d7238a3"
      },
      "outputs": [
        {
          "output_type": "execute_result",
          "data": {
            "text/plain": [
              "       Category  \\\n",
              "0  Data Science   \n",
              "\n",
              "                                                                                                                                                                                                                                                                                                                                                                                                                                                                                                                                                                                                                                                                                                                                                                                                                            Resume  \\\n",
              "0  Skills * Programming Languages: Python (pandas, numpy, scipy, scikit-learn, matplotlib), Sql, Java, JavaScript/JQuery. * Machine learning: Regression, SVM, NaÃ¯ve Bayes, KNN, Random Forest, Decision Trees, Boosting techniques, Cluster Analysis, Word Embedding, Sentiment Analysis, Natural Language processing, Dimensionality reduction, Topic Modelling (LDA, NMF), PCA & Neural Nets. * Database Visualizations: Mysql, SqlServer, Cassandra, Hbase, ElasticSearch D3.js, DC.js, Plotly, kibana, matplotlib, ggplot, Tableau. * Others: Regular Expression, HTML, CSS, Angular 6, Logstash, Kafka, Python Flask, Git, Docker, computer vision - Open CV and understanding of Deep learning.Education Details \\r\\n\\r\\nData Science Assurance Associate \\r\\n\\r\\nData Science Assurance Associate - Ernst & Young LLP\\...   \n",
              "\n",
              "                                                                                                                                                                                                                                                                                                                                                                                                                                                                                                                                                                                                                                                                                                                                                                                                                    Cleaned Resume  \n",
              "0  skills programming languages python pandas numpy scipy scikit learn matplotlib sql java javascript jquery machine learning regression svm na ve bayes knn random forest decision trees boosting techniques cluster analysis word embedding sentiment analysis natural language processing dimensionality reduction topic modelling lda nmf pca neural nets database visualizations mysql sqlserver cassandra hbase elasticsearch d js dc js plotly kibana matplotlib ggplot tableau others regular expression html css angular  logstash kafka python flask git docker computer vision open cv and understanding of deep learning education details data science assurance associate data science assurance associate ernst young llp skill details javascript exprience  months jquery exprience  months python exprience  ...  "
            ],
            "text/html": [
              "\n",
              "  <div id=\"df-bbd778a1-74cc-43a3-9b71-41f7e2fad674\" class=\"colab-df-container\">\n",
              "    <div>\n",
              "<style scoped>\n",
              "    .dataframe tbody tr th:only-of-type {\n",
              "        vertical-align: middle;\n",
              "    }\n",
              "\n",
              "    .dataframe tbody tr th {\n",
              "        vertical-align: top;\n",
              "    }\n",
              "\n",
              "    .dataframe thead th {\n",
              "        text-align: right;\n",
              "    }\n",
              "</style>\n",
              "<table border=\"1\" class=\"dataframe\">\n",
              "  <thead>\n",
              "    <tr style=\"text-align: right;\">\n",
              "      <th></th>\n",
              "      <th>Category</th>\n",
              "      <th>Resume</th>\n",
              "      <th>Cleaned Resume</th>\n",
              "    </tr>\n",
              "  </thead>\n",
              "  <tbody>\n",
              "    <tr>\n",
              "      <th>0</th>\n",
              "      <td>Data Science</td>\n",
              "      <td>Skills * Programming Languages: Python (pandas, numpy, scipy, scikit-learn, matplotlib), Sql, Java, JavaScript/JQuery. * Machine learning: Regression, SVM, NaÃ¯ve Bayes, KNN, Random Forest, Decision Trees, Boosting techniques, Cluster Analysis, Word Embedding, Sentiment Analysis, Natural Language processing, Dimensionality reduction, Topic Modelling (LDA, NMF), PCA &amp; Neural Nets. * Database Visualizations: Mysql, SqlServer, Cassandra, Hbase, ElasticSearch D3.js, DC.js, Plotly, kibana, matplotlib, ggplot, Tableau. * Others: Regular Expression, HTML, CSS, Angular 6, Logstash, Kafka, Python Flask, Git, Docker, computer vision - Open CV and understanding of Deep learning.Education Details \\r\\n\\r\\nData Science Assurance Associate \\r\\n\\r\\nData Science Assurance Associate - Ernst &amp; Young LLP\\...</td>\n",
              "      <td>skills programming languages python pandas numpy scipy scikit learn matplotlib sql java javascript jquery machine learning regression svm na ve bayes knn random forest decision trees boosting techniques cluster analysis word embedding sentiment analysis natural language processing dimensionality reduction topic modelling lda nmf pca neural nets database visualizations mysql sqlserver cassandra hbase elasticsearch d js dc js plotly kibana matplotlib ggplot tableau others regular expression html css angular  logstash kafka python flask git docker computer vision open cv and understanding of deep learning education details data science assurance associate data science assurance associate ernst young llp skill details javascript exprience  months jquery exprience  months python exprience  ...</td>\n",
              "    </tr>\n",
              "  </tbody>\n",
              "</table>\n",
              "</div>\n",
              "    <div class=\"colab-df-buttons\">\n",
              "\n",
              "  <div class=\"colab-df-container\">\n",
              "    <button class=\"colab-df-convert\" onclick=\"convertToInteractive('df-bbd778a1-74cc-43a3-9b71-41f7e2fad674')\"\n",
              "            title=\"Convert this dataframe to an interactive table.\"\n",
              "            style=\"display:none;\">\n",
              "\n",
              "  <svg xmlns=\"http://www.w3.org/2000/svg\" height=\"24px\" viewBox=\"0 -960 960 960\">\n",
              "    <path d=\"M120-120v-720h720v720H120Zm60-500h600v-160H180v160Zm220 220h160v-160H400v160Zm0 220h160v-160H400v160ZM180-400h160v-160H180v160Zm440 0h160v-160H620v160ZM180-180h160v-160H180v160Zm440 0h160v-160H620v160Z\"/>\n",
              "  </svg>\n",
              "    </button>\n",
              "\n",
              "  <style>\n",
              "    .colab-df-container {\n",
              "      display:flex;\n",
              "      gap: 12px;\n",
              "    }\n",
              "\n",
              "    .colab-df-convert {\n",
              "      background-color: #E8F0FE;\n",
              "      border: none;\n",
              "      border-radius: 50%;\n",
              "      cursor: pointer;\n",
              "      display: none;\n",
              "      fill: #1967D2;\n",
              "      height: 32px;\n",
              "      padding: 0 0 0 0;\n",
              "      width: 32px;\n",
              "    }\n",
              "\n",
              "    .colab-df-convert:hover {\n",
              "      background-color: #E2EBFA;\n",
              "      box-shadow: 0px 1px 2px rgba(60, 64, 67, 0.3), 0px 1px 3px 1px rgba(60, 64, 67, 0.15);\n",
              "      fill: #174EA6;\n",
              "    }\n",
              "\n",
              "    .colab-df-buttons div {\n",
              "      margin-bottom: 4px;\n",
              "    }\n",
              "\n",
              "    [theme=dark] .colab-df-convert {\n",
              "      background-color: #3B4455;\n",
              "      fill: #D2E3FC;\n",
              "    }\n",
              "\n",
              "    [theme=dark] .colab-df-convert:hover {\n",
              "      background-color: #434B5C;\n",
              "      box-shadow: 0px 1px 3px 1px rgba(0, 0, 0, 0.15);\n",
              "      filter: drop-shadow(0px 1px 2px rgba(0, 0, 0, 0.3));\n",
              "      fill: #FFFFFF;\n",
              "    }\n",
              "  </style>\n",
              "\n",
              "    <script>\n",
              "      const buttonEl =\n",
              "        document.querySelector('#df-bbd778a1-74cc-43a3-9b71-41f7e2fad674 button.colab-df-convert');\n",
              "      buttonEl.style.display =\n",
              "        google.colab.kernel.accessAllowed ? 'block' : 'none';\n",
              "\n",
              "      async function convertToInteractive(key) {\n",
              "        const element = document.querySelector('#df-bbd778a1-74cc-43a3-9b71-41f7e2fad674');\n",
              "        const dataTable =\n",
              "          await google.colab.kernel.invokeFunction('convertToInteractive',\n",
              "                                                    [key], {});\n",
              "        if (!dataTable) return;\n",
              "\n",
              "        const docLinkHtml = 'Like what you see? Visit the ' +\n",
              "          '<a target=\"_blank\" href=https://colab.research.google.com/notebooks/data_table.ipynb>data table notebook</a>'\n",
              "          + ' to learn more about interactive tables.';\n",
              "        element.innerHTML = '';\n",
              "        dataTable['output_type'] = 'display_data';\n",
              "        await google.colab.output.renderOutput(dataTable, element);\n",
              "        const docLink = document.createElement('div');\n",
              "        docLink.innerHTML = docLinkHtml;\n",
              "        element.appendChild(docLink);\n",
              "      }\n",
              "    </script>\n",
              "  </div>\n",
              "\n",
              "\n",
              "    </div>\n",
              "  </div>\n"
            ],
            "application/vnd.google.colaboratory.intrinsic+json": {
              "type": "dataframe",
              "variable_name": "df",
              "summary": "{\n  \"name\": \"df\",\n  \"rows\": 962,\n  \"fields\": [\n    {\n      \"column\": \"Category\",\n      \"properties\": {\n        \"dtype\": \"category\",\n        \"num_unique_values\": 25,\n        \"samples\": [\n          \"Civil Engineer\",\n          \"DevOps Engineer\",\n          \"Data Science\"\n        ],\n        \"semantic_type\": \"\",\n        \"description\": \"\"\n      }\n    },\n    {\n      \"column\": \"Resume\",\n      \"properties\": {\n        \"dtype\": \"category\",\n        \"num_unique_values\": 166,\n        \"samples\": [\n          \"KEY COMPETENCIES \\u00e2\\u009c\\u00b6Multi - Operations Management\\u00e2\\u009c\\u00b6People Management \\u00e2\\u009c\\u00b6Customer Services - Emails \\u00e2\\u009c\\u00b6 MIS \\u00e2\\u009c\\u00b6Vendor & Client Services Management\\u00e2\\u009c\\u00b6Cross Functional Coordination\\u00e2\\u009c\\u00b6Banking & Financial Services\\u00e2\\u009c\\u00b6 Transaction Monitoring * ATM Operations \\u00e2\\u009c\\u00b6 & Prepaid Card Operations (Pre-Issuance & Post-Issuance) \\u00e2\\u009c\\u00b6 POS Operations * JOB PROFILE & SKILLS: \\u00e2\\u0080\\u00a2 An effective communicator with excellent relationship building & interpersonal skills. Strong analytical, problem solving & organizational abilities. \\u00e2\\u0080\\u00a2 Extensive experience in managing operations with demonstrated leadership qualities & organisational skills during the tenure. \\u00e2\\u0080\\u00a2 Managing customer centric operations & ensuring customer satisfaction by achieving service quality norms. \\u00e2\\u0080\\u00a2 Analyzing of all operational problems, customer complaints and take preventive and corrective actions to resolve the same. \\u00e2\\u0080\\u00a2 Receive and respond to Key customer inquiries in an effective manner and provide relevant and timely information. \\u00e2\\u0080\\u00a2 Deft in steering banking back-end operations, analyzing risks and managing delinquencies with dexterity across applying techniques for maximizing recoveries and minimizing credit losses. \\u00e2\\u0080\\u00a2 Analyzed & identified training needs of the team members and developing, organizing and conducting training programs and manage bottom quartile team to improve their performance. \\u00e2\\u0080\\u00a2 Preparing and maintaining daily MIS reports to evaluate the performance and efficiency of the process relate to various verticals. \\u00e2\\u0080\\u00a2 Measuring the performance of the processes in terms of efficiency and effectiveness matrix and ensuring adherence to SLA. \\u00e2\\u0080\\u00a2 Major Activities Define processes for Field Services were monitored and necessary checks were executed and controlled. Also measured Vendor SLA by analyzing the TAT of vendors & the Client SLA provided to us. \\u00e2\\u0080\\u00a2 As per company procedures, handling & ensuring vendor's payment issues to be sorted out &payments are processed on quarterly basis. \\u00e2\\u0080\\u00a2 Appropriately plan and execute each skill of operations in accordance with the department's policies and procedures. \\u00e2\\u0080\\u00a2 Manage relationships with business team, software development team and other services to achieve project objectives. Different software Worked till now: - a. CTL prime - Axis Bank Credit Cards b. Insight - For POS Machine technical operations for Amex (MID & TID Generation- ATOS (Venture Infotek) c. Ticket Management System - TATA Communications Private Services Ltd (ATM - NOC Operations) d. Branch Portal (Yalamanchili Software Exports Ltd) - Prepaid Cards (SBI Bank & Zaggle Prepaid Oceans Services Ltd) Zaggle Prepaid Ocean Services Pvt Ltd Oct, 2017 to Till Date Designation: Manager - Operations (Payment Industry - Prepaid Cards - INR) Education Details \\r\\n  Commerce Mumbai, Maharashtra Mumbai University\\r\\nOperations Manager \\r\\n\\r\\nService Manager - Operations (Payment Industry - Prepaid Cards - INR & FTC)\\r\\nSkill Details \\r\\nOPERATIONS- Exprience - 73 months\\r\\nSATISFACTION- Exprience - 48 months\\r\\nTRAINING- Exprience - 24 months\\r\\nNOC- Exprience - 23 months\\r\\nPOINT OF SALE- Exprience - 20 monthsCompany Details \\r\\ncompany - Zaggle Prepaid Ocean Services Pvt Ltd\\r\\ndescription - Card Operations\\r\\ncompany - Yalamanchili Software Exports Ltd\\r\\ndescription - 24*7 Operations Pvt Ltd) Dec 2015 to Feb 2017\\r\\n\\r\\nDesignation: Service Manager - Operations (Payment Industry - Prepaid Cards - INR & FTC)\\r\\n\\r\\nKey Contributions: \\u00e2\\u0080\\u00a2 A result-oriented business professional in planning, executing& managing processes, improving efficiency of operations, team building and detailing process information to determine effective result into operations.\\r\\n\\u00e2\\u0080\\u00a2 Ensuring PINs generation (SLA) is maintained and chargeback cases are raised in perfect timeframe.\\r\\n\\u00e2\\u0080\\u00a2 Managing email customer services properly and ensuring the emails are replied properly. Also, ensuring transaction monitoring is properly managed 24/7.\\r\\n\\u00e2\\u0080\\u00a2 Assisting Bankers (SBI & Associated Banks) for their BCP plans by getting executed in the system with the help of DR-PR plans & vice versa or any other business requirements.\\r\\n\\u00e2\\u0080\\u00a2 Expertise in maintaining highest level of quality in operations; ensuring adherence to all the quality parameters and procedures as per the stringent norms.\\r\\n\\u00e2\\u0080\\u00a2 Lead, manage and supervise the execution of external audit engagements and responsible for presenting the findings & developing a quality reports to the senior Management and Clients.\\r\\n\\u00e2\\u0080\\u00a2 Coach/mentor (20) team members to perform at a higher level by giving opportunities, providing timely continuous feedback and working with staff to improve their communication, time management, decision making, organization, and analytical skills.\\r\\n\\u00e2\\u0080\\u00a2 Providing the solutions and services to the client in their own premises with aforesaid count of team members.\\r\\n\\u00e2\\u0080\\u00a2 Also ensuring end to end process of PR & DR as per client requirements (PR- DR & DR -PR) by interacting with internal & external stakeholders.\\r\\n\\u00e2\\u0080\\u00a2 Determining process gaps and designing & conducting training programs to enhance operational efficiency and retain talent by providing optimum opportunities for personal and professional growth.\\r\\ncompany - Credit Cards\\r\\ndescription - Ensured highest standard of customer satisfaction and quality service; developing new policies and procedures to improve based on customer feedback and resolving customer queries via correspondence, inbound calls & email channels with the strength of (12-16) Team members.\\r\\ncompany - AGS Transact Technologies Limited\\r\\ndescription - Key Contributions: Lead - SPOC to Banks\\r\\ncompany - TATA Communications Payment Solutions Ltd\\r\\ndescription - To make ATMs operational within TAT by analyzing the issue is technical or non-technical and also by interacting with internal & external stakeholders.\\r\\ncompany - Vertex Customer Solutions India Private Ltd\\r\\ndescription - Key Contributions: \\u00e2\\u0080\\u00a2 Build positive working relationship with all team members and clients by keeping Management informed   of KYC document collection & con-current audit progress, responding timely to Management inquiries, understanding the business and conducting self professionally.\\r\\ncompany - Financial Inclusion Network & Operations Limited\\r\\ndescription - Key Contributions: POS-Operations \\u00e2\\u0080\\u00a2 Cascading the adherence of process is strictly followed by team members & training them to reduce the downtime.\\r\\n\\u00e2\\u0080\\u00a2 Managing Stock of EDC Terminals \\u00e2\\u0080\\u00a2 Managing Deployments of terminals through Multiple teams \\u00e2\\u0080\\u00a2 Would have worked with multiple terminal make & model \\u00e2\\u0080\\u00a2 Managing Inward, Outward & QC of applications installed in the POS machines.\\r\\ncompany - Venture Infotek Private Ltd\\r\\ndescription - Key Contributions: POS-Operations\\r\\ncompany - Axis Bank Ltd - Customer Services\\r\\ndescription - Aug 2006 to Oct 2009 (Ma-Foi&I- smart)\\r\\n\\r\\nDesignation: Team Leader/Executive - Emails, Phone Banking & Correspondence Unit (Snail Mails)\",\n          \"Skill Set: Hadoop, Map Reduce, HDFS, Hive, Sqoop, java. Duration: 2016 to 2017. Role: Hadoop Developer Rplus offers an quick, simple and powerful cloud based Solution, Demand Sense to accurately predict demand for your product in all your markets which Combines Enterprise and External Data to predict demand more accurately through Uses Social Conversation and Sentiments to derive demand and Identifies significant drivers of sale out of hordes of factors that Selects the best suited model out of multiple forecasting models for each product. Responsibilities: \\u00e2\\u0080\\u00a2 Involved in deploying the product for customers, gathering requirements and algorithm optimization at backend of the product. \\u00e2\\u0080\\u00a2 Load and transform Large Datasets of structured semi structured. \\u00e2\\u0080\\u00a2 Responsible to manage data coming from different sources and application \\u00e2\\u0080\\u00a2 Supported Map Reduce Programs those are running on the cluster \\u00e2\\u0080\\u00a2 Involved in creating Hive tables, loading with data and writing hive queries which will run internally in map reduce way.Education Details \\r\\n\\r\\nHadoop Developer \\r\\n\\r\\nHadoop Developer - Braindatawire\\r\\nSkill Details \\r\\nAPACHE HADOOP HDFS- Exprience - 49 months\\r\\nAPACHE HADOOP SQOOP- Exprience - 49 months\\r\\nHadoop- Exprience - 49 months\\r\\nHADOOP- Exprience - 49 months\\r\\nHADOOP DISTRIBUTED FILE SYSTEM- Exprience - 49 monthsCompany Details \\r\\ncompany - Braindatawire\\r\\ndescription - Technical Skills:\\r\\n\\u00e2\\u0080\\u00a2   Programming: Core Java, Map Reduce, Scala\\r\\n\\u00e2\\u0080\\u00a2   Hadoop Tools: HDFS, Spark, Map Reduce, Sqoop, Hive, Hbase\\r\\n\\u00e2\\u0080\\u00a2   Database: MySQL, Oracle\\r\\n\\u00e2\\u0080\\u00a2   Scripting: Shell Scripting\\r\\n\\u00e2\\u0080\\u00a2   IDE: Eclipse\\r\\n\\u00e2\\u0080\\u00a2   Operating Systems: Linux (CentOS), Windows\\r\\n\\u00e2\\u0080\\u00a2   Source Control: Git (Github)\",\n          \"IT Skills: Area Exposure Modeling Tool: Bizagi, MS Visio Prototyping Tool: Indigo Studio. Documentation: MS Office (MS Word, MS Excel, MS Power Point) Testing Proficiency: Smoke, Sanity, Integration, Functional, Acceptance and UI Methodology implemented: Waterfall, Agile (Scrum) Database: SQL Testing Tool: HPQC Business Exposure Education Details \\r\\n Bachelor Of Computer Engineering Computer Engineering Mumbai, Maharashtra Thadomal Shahani Engineering college\\r\\n Diploma Computer Engineering Ulhasnagar, Maharashtra Institute of Technology\\r\\n Secondary School Certificate  Ulhasnagar, Maharashtra New English High School\\r\\nSenior Business Analyst - RPA \\r\\n\\r\\nSenior Business Analyst - RPA - Hexaware Technologies\\r\\nSkill Details \\r\\nDOCUMENTATION- Exprience - 47 months\\r\\nTESTING- Exprience - 29 months\\r\\nINTEGRATION- Exprience - 25 months\\r\\nINTEGRATOR- Exprience - 25 months\\r\\nPROTOTYPE- Exprience - 13 monthsCompany Details \\r\\ncompany - Hexaware Technologies\\r\\ndescription - Working as a RPA Business Analyst\\r\\ncompany - BBH- Brown Brothers Harriman & Co\\r\\ndescription - is a private bank that provides commercial banking, investment management, brokerage, and trust services to private companies and individuals. It also performs merger advisory, foreign exchange, custody services, commercial banking, and corporate financing services.\\r\\n\\r\\nResponsibilities: \\u00e2\\u0080\\u00a2 Performed Automation Assessment of various Processes and identified processes which can be candidates of RPA.\\r\\n\\u00e2\\u0080\\u00a2 Conducting Assessment that involves an initial Understanding of the Existing System, their technology, processes, Usage of the tools, Feasibility of tool with automation tool along with automation ROI analysis.\\r\\n\\u00e2\\u0080\\u00a2 Preparing the Automation Potential Sheet which describes the steps in the process, the volume and frequency of the transaction, the AHT taken by SME to perform the process and depending on the steps that could be automated, Automation potential and the manual efforts that will be saved are calculated.\\r\\nCalculating the complexity of the Process which is considered for automation and depending on all these factors Number of Bots and Number of Automation tool Licenses are determined.\\r\\n\\u00e2\\u0080\\u00a2 Implementing a Proof of Concept (POC) to Validate Feasibility by executing the selected critical use cases for conducting a POC which will helps to identify financial and operational benefits and provide recommendations regarding the actual need for complete automation.\\r\\n\\u00e2\\u0080\\u00a2 Gathering business requirements by conducting detailed interviews with business users, stakeholders, and Subject Matter Experts (SME's) \\u00e2\\u0080\\u00a2 Preparing Business Requirement Document and then converted Business requirements into Functional Requirements Specification.\\r\\n \\u00e2\\u0080\\u00a2 Constructing prototype early toward a design acceptable to the customer and feasible.\\r\\n\\u00e2\\u0080\\u00a2 Assisting in designing test plans, test scenarios and test cases for integration, regression, and user acceptance testing (UAT) to improve the overall quality of the Automation.\\r\\n\\u00e2\\u0080\\u00a2 Participating regularly in Walkthroughs and Review meetings with Project Manager, QA Engineers, and Development team.\\r\\n\\u00e2\\u0080\\u00a2 Regularly interacting with offshore and onshore development teams.\\r\\ncompany - FADV - First Advantage\\r\\ndescription - is a criminal background check company that delivers global solutions ranging from employment screenings to background checks.\\r\\nThe following are the processes which were covered:\\r\\nEmail Process, Research Process, Review Process.\\r\\n\\r\\nResponsibilities: \\u00e2\\u0080\\u00a2 Requirement Gathering through conducting Interviews & Brainstorming sessions with stakeholders \\u00e2\\u0080\\u00a2 To develop decision models and execute those rules as per the use case specifications.\\r\\n\\u00e2\\u0080\\u00a2 To Test/validate the decision models against document test data.\\r\\n\\u00e2\\u0080\\u00a2 To maintain and enhance the decision models for changes in regulations as per use case specifications.\\r\\n\\u00e2\\u0080\\u00a2 Responsible for performing the business research that will make a business growth.\\r\\n\\u00e2\\u0080\\u00a2 Developing a clear understanding of existing business functions and processes.\\r\\n\\u00e2\\u0080\\u00a2 Effectively communicate with the onsite clients for the queries, suggestions, and update.\\r\\n\\u00e2\\u0080\\u00a2 Giving suggestions to enhance the current processes.\\r\\n\\u00e2\\u0080\\u00a2 Identifying areas for process improvement.\\r\\n\\u00e2\\u0080\\u00a2 Flagging up potential problems at an early stage.\\r\\n\\u00e2\\u0080\\u00a2 Preparing PowerPoint presentations and documents for business meetings.\\r\\n\\u00e2\\u0080\\u00a2 Using any information gathered to write up detailed reports.\\r\\n\\u00e2\\u0080\\u00a2 Highlighting risks and issues that could impact project delivery.\\r\\n\\u00e2\\u0080\\u00a2 Able to work accurately.\\r\\n\\u00e2\\u0080\\u00a2 To develop and maintain documentation for internal team training and client end user operations.\\r\\n\\u00e2\\u0080\\u00a2 To work efficiently with team members and across teams.\\r\\n\\u00e2\\u0080\\u00a2 To mentor and train junior team members.\\r\\ncompany - Clinical Testing, Lab Work and Diagnostic Testing\\r\\ndescription - IQVIA provides services to its customers this includes: Clinical Testing, Lab Work and Diagnostic Testing under clinical trial. These customers need to pay to IQVIA and aging details and invoices are generated for the same.\\r\\nThe following are the processes which were covered:\\r\\n\\r\\nTracking Payments, Automated Real Time Metrics Reporting (Dashboard), Past Due Notifications, AR Statements, Credit/Rebill.\\r\\nResponsibilities: \\u00e2\\u0080\\u00a2 Conducting meetings with clients and key stakeholders to gather requirements, analyze, finalize and have formal sign-offs from approvers Gather and perform analysis of the business requirements \\u00e2\\u0080\\u00a2 Translating the business requirements into the Business Requirement Document [BRD], Functional Requirement Document [FRD].\\r\\n\\u00e2\\u0080\\u00a2 Facilitating meetings with the appropriate subject matter experts in both business and technology teams \\u00e2\\u0080\\u00a2 Coordinating with business user community for the execution of user acceptance test as well as tracking issues \\u00e2\\u0080\\u00a2 Working, collaborating and coordinating with Offshore and Onsite team members to fulfill the BA responsibilities from project initiation to Post-Implementation \\u00e2\\u0080\\u00a2 Reviewing the test scripts with business users as well as technology team. Execute test scripts with expected results for the System Integration Test (SIT) and User Acceptance Test (UAT) \\u00e2\\u0080\\u00a2 Coordinating and conducting the Production Acceptance Testing (PAT) with the business users \\u00e2\\u0080\\u00a2 Creating flow diagrams, structure charts, and other types of system or process representations \\u00e2\\u0080\\u00a2 Managing changes to requirements and baseline through a change control process \\u00e2\\u0080\\u00a2 Utilizing standard methods, design and testing tools throughout project development life cycle \\u00e2\\u0080\\u00a2 Work closely with the operational functional teams, operations management, and personnel, and various technology teams to facilitate a shared understanding of requirements and priorities across all areas\\r\\ncompany - Eduavenir IT Solution\\r\\ndescription - Project: M.B.M.S\\r\\n\\r\\nM.B.M.S. - is an Inventory management application that allows user to manage inventory details of different warehouses, having different products located at various locations and help extract what goods have been procured, sold or returned by customers. It generates automated invoicesalong withcustomized reports. It also managescustomer complaint and resolution system implementation along with automated MIS on monthly basis.Sales and forecastingis also developed on MIS System and the streamlining of process of warehousing and dispatch along with online proof of delivery management system (POD documentation) is generated.\\r\\n\\r\\nResponsibilities: \\u00e2\\u0080\\u00a2 Participate in requirement gathering discussion with client to understand the flow of business processes \\u00e2\\u0080\\u00a2 Analyze the requirements and determine the core processes, develop Process Documentation and ensure to stay up-to-date in conjunction with on-going changes \\u00e2\\u0080\\u00a2 Participate in process flow analysis and preparing BRD, SRS.\\r\\n\\u00e2\\u0080\\u00a2 Coordinating with developers, designers & operations teams for various nuances of the project, communicate the stakeholder requirements from requirement /enhancement to implementation and finally deliver the same within estimated timeframe.\\r\\n\\u00e2\\u0080\\u00a2 Support UAT by reviewing test cases, manage version control of documents, software builds.\\r\\n\\u00e2\\u0080\\u00a2 Coordinate with the stakeholders for UAT sign off and coordinate internally for production movement till Golive stage of the application.\\r\\n\\u00e2\\u0080\\u00a2 Provide demo and training to internal and end user using PowerPoint presentation.\\r\\n\\u00e2\\u0080\\u00a2 Resolving project functional &technical issues during UAT.\\r\\n\\u00e2\\u0080\\u00a2 Prioritizing the Production bugs and resolving the same within the estimated timeframe.\\r\\n\\u00e2\\u0080\\u00a2 Preparing Project Status Report and Production Bugs Status to all the stakeholders.\\r\\n\\u00e2\\u0080\\u00a2 Promoting and Networking for online trading platform.\\r\\n\\u00e2\\u0080\\u00a2 Designing query sheet for obtaining and comparison of quotes from various vendors.\\r\\n\\u00e2\\u0080\\u00a2 Development of product codes / material codes for inventory management (Master Data Management)\\r\\ncompany - CAPGEMINI Head Office\\r\\ndescription - Type: Mobile and Device Testing.       Duration: January 2014 - August 2014\\r\\n\\r\\nFollet - An application which takes an electronic request from the user for the books he requires from a particular follet store. This detailed information about books that will include the name of the book, its price, the date of the transaction and the parties involved which will then be sent to follet stores. User then create request for one or more books for a given date. This request is then processed further and user gets a mail of the date when he will be provided with that book.\\r\\n\\r\\nResponsibilities: \\u00e2\\u0080\\u00a2 Understanding the needs and business requirements.\\r\\n\\u00e2\\u0080\\u00a2 Preparing BRD, SRS by eliciting all the requirements from the client and SMEs \\u00e2\\u0080\\u00a2 Understanding the dependency of the modules in the system \\u00e2\\u0080\\u00a2 Preparation of test plan for Unit level and Integration level.\\r\\n\\u00e2\\u0080\\u00a2 Preparation and execution of test cases.\\r\\n\\u00e2\\u0080\\u00a2 Defect tracking, Issue Resolution, Risk Monitoring, Status Tracking, Reporting and Follow-up.\\r\\n\\u00e2\\u0080\\u00a2 Preparation of Test Completion report.\\r\\ncompany - CAPGEMINI Head Office\\r\\ndescription - \\r\\ncompany - CAPGEMINI Head Office\\r\\ndescription - Humana is a health care insurance project of U.S. which deals with supplying various medicines to citizens as per the doctor's reference and patient's insurance policy. This application keeps track of all the medicines user has consumed in the past and generates a patient history. A citizen is given a drug only after the doctor's reference so the doctor's information is also linked with the patient's history.\\r\\n\\r\\nResponsibilities: \\u00e2\\u0080\\u00a2 Understanding the requirements and getting clarifications from client.\\r\\n\\u00e2\\u0080\\u00a2 Involved in writing test cases based on test scenarios and execute them.\\r\\n\\u00e2\\u0080\\u00a2 Ensuring Test Coverage using Requirement Traceability Matrix (RTM) \\u00e2\\u0080\\u00a2 Preparation of Test Completion report.\\r\\ncompany - CAPGEMINI Head Office\\r\\ndescription - Testing Trends WQR (World Quality Report) is an application which allows the users to take a survey on different methods and technologies used for testing. Users can choose to answer any type of questions under three different categories. Users have a facility to search, view and export the data to excel. Also, users get daily and weekly reports through email about the new trends in testing implemented around the globe. Testing Trends WQR app is available on Android and IOS platforms.\\r\\n\\r\\nResponsibilities: \\u00e2\\u0080\\u00a2 Understanding the requirements and getting clarifications from client.\\r\\n\\u00e2\\u0080\\u00a2 Writing test cases based on test scenarios and executed them.\\r\\n\\u00e2\\u0080\\u00a2 Performing different types of testing such as Functional, Integration, System, and UAT.\\r\\n\\u00e2\\u0080\\u00a2 Defect resolution and maintenance of the application.\"\n        ],\n        \"semantic_type\": \"\",\n        \"description\": \"\"\n      }\n    },\n    {\n      \"column\": \"Cleaned Resume\",\n      \"properties\": {\n        \"dtype\": \"category\",\n        \"num_unique_values\": 166,\n        \"samples\": [\n          \"key competencies multi operations management people management customer services emails mis vendor client services management cross functional coordination banking financial services transaction monitoring atm operations prepaid card operations pre issuance post issuance pos operations job profile skills an effective communicator with excellent relationship building interpersonal skills strong analytical problem solving organizational abilities extensive experience in managing operations with demonstrated leadership qualities organisational skills during the tenure managing customer centric operations ensuring customer satisfaction by achieving service quality norms analyzing of all operational problems customer complaints and take preventive and corrective actions to resolve the same receive and respond to key customer inquiries in an effective manner and provide relevant and timely information deft in steering banking back end operations analyzing risks and managing delinquencies with dexterity across applying techniques for maximizing recoveries and minimizing credit losses analyzed identified training needs of the team members and developing organizing and conducting training programs and manage bottom quartile team to improve their performance preparing and maintaining daily mis reports to evaluate the performance and efficiency of the process relate to various verticals measuring the performance of the processes in terms of efficiency and effectiveness matrix and ensuring adherence to sla major activities define processes for field services were monitored and necessary checks were executed and controlled also measured vendor sla by analyzing the tat of vendors the client sla provided to us as per company procedures handling ensuring vendor s payment issues to be sorted out payments are processed on quarterly basis appropriately plan and execute each skill of operations in accordance with the department s policies and procedures manage relationships with business team software development team and other services to achieve project objectives different software worked till now a ctl prime axis bank credit cards b insight for pos machine technical operations for amex mid tid generation atos venture infotek c ticket management system tata communications private services ltd atm noc operations d branch portal yalamanchili software exports ltd prepaid cards sbi bank zaggle prepaid oceans services ltd zaggle prepaid ocean services pvt ltd oct  to till date designation manager operations payment industry prepaid cards inr education details commerce mumbai maharashtra mumbai university operations manager service manager operations payment industry prepaid cards inr ftc skill details operations exprience  months satisfaction exprience  months training exprience  months noc exprience  months point of sale exprience  monthscompany details company zaggle prepaid ocean services pvt ltd description card operations company yalamanchili software exports ltd description   operations pvt ltd dec  to feb  designation service manager operations payment industry prepaid cards inr ftc key contributions a result oriented business professional in planning executing managing processes improving efficiency of operations team building and detailing process information to determine effective result into operations ensuring pins generation sla is maintained and chargeback cases are raised in perfect timeframe managing email customer services properly and ensuring the emails are replied properly also ensuring transaction monitoring is properly managed   assisting bankers sbi associated banks for their bcp plans by getting executed in the system with the help of dr pr plans vice versa or any other business requirements expertise in maintaining highest level of quality in operations ensuring adherence to all the quality parameters and procedures as per the stringent norms lead manage and supervise the execution of external audit engagements and responsible for presenting the findings developing a quality reports to the senior management and clients coach mentor  team members to perform at a higher level by giving opportunities providing timely continuous feedback and working with staff to improve their communication time management decision making organization and analytical skills providing the solutions and services to the client in their own premises with aforesaid count of team members also ensuring end to end process of pr dr as per client requirements pr dr dr pr by interacting with internal external stakeholders determining process gaps and designing conducting training programs to enhance operational efficiency and retain talent by providing optimum opportunities for personal and professional growth company credit cards description ensured highest standard of customer satisfaction and quality service developing new policies and procedures to improve based on customer feedback and resolving customer queries via correspondence inbound calls email channels with the strength of   team members company ags transact technologies limited description key contributions lead spoc to banks company tata communications payment solutions ltd description to make atms operational within tat by analyzing the issue is technical or non technical and also by interacting with internal external stakeholders company vertex customer solutions india private ltd description key contributions build positive working relationship with all team members and clients by keeping management informed of kyc document collection con current audit progress responding timely to management inquiries understanding the business and conducting self professionally company financial inclusion network operations limited description key contributions pos operations cascading the adherence of process is strictly followed by team members training them to reduce the downtime managing stock of edc terminals managing deployments of terminals through multiple teams would have worked with multiple terminal make model managing inward outward qc of applications installed in the pos machines company venture infotek private ltd description key contributions pos operations company axis bank ltd customer services description aug  to oct  ma foi i smart designation team leader executive emails phone banking correspondence unit snail mails \",\n          \"skill set hadoop map reduce hdfs hive sqoop java duration  to  role hadoop developer rplus offers an quick simple and powerful cloud based solution demand sense to accurately predict demand for your product in all your markets which combines enterprise and external data to predict demand more accurately through uses social conversation and sentiments to derive demand and identifies significant drivers of sale out of hordes of factors that selects the best suited model out of multiple forecasting models for each product responsibilities involved in deploying the product for customers gathering requirements and algorithm optimization at backend of the product load and transform large datasets of structured semi structured responsible to manage data coming from different sources and application supported map reduce programs those are running on the cluster involved in creating hive tables loading with data and writing hive queries which will run internally in map reduce way education details hadoop developer hadoop developer braindatawire skill details apache hadoop hdfs exprience  months apache hadoop sqoop exprience  months hadoop exprience  months hadoop exprience  months hadoop distributed file system exprience  monthscompany details company braindatawire description technical skills programming core java map reduce scala hadoop tools hdfs spark map reduce sqoop hive hbase database mysql oracle scripting shell scripting ide eclipse operating systems linux centos windows source control git github \",\n          \"it skills area exposure modeling tool bizagi ms visio prototyping tool indigo studio documentation ms office ms word ms excel ms power point testing proficiency smoke sanity integration functional acceptance and ui methodology implemented waterfall agile scrum database sql testing tool hpqc business exposure education details bachelor of computer engineering computer engineering mumbai maharashtra thadomal shahani engineering college diploma computer engineering ulhasnagar maharashtra institute of technology secondary school certificate ulhasnagar maharashtra new english high school senior business analyst rpa senior business analyst rpa hexaware technologies skill details documentation exprience  months testing exprience  months integration exprience  months integrator exprience  months prototype exprience  monthscompany details company hexaware technologies description working as a rpa business analyst company bbh brown brothers harriman co description is a private bank that provides commercial banking investment management brokerage and trust services to private companies and individuals it also performs merger advisory foreign exchange custody services commercial banking and corporate financing services responsibilities performed automation assessment of various processes and identified processes which can be candidates of rpa conducting assessment that involves an initial understanding of the existing system their technology processes usage of the tools feasibility of tool with automation tool along with automation roi analysis preparing the automation potential sheet which describes the steps in the process the volume and frequency of the transaction the aht taken by sme to perform the process and depending on the steps that could be automated automation potential and the manual efforts that will be saved are calculated calculating the complexity of the process which is considered for automation and depending on all these factors number of bots and number of automation tool licenses are determined implementing a proof of concept poc to validate feasibility by executing the selected critical use cases for conducting a poc which will helps to identify financial and operational benefits and provide recommendations regarding the actual need for complete automation gathering business requirements by conducting detailed interviews with business users stakeholders and subject matter experts sme s preparing business requirement document and then converted business requirements into functional requirements specification constructing prototype early toward a design acceptable to the customer and feasible assisting in designing test plans test scenarios and test cases for integration regression and user acceptance testing uat to improve the overall quality of the automation participating regularly in walkthroughs and review meetings with project manager qa engineers and development team regularly interacting with offshore and onshore development teams company fadv first advantage description is a criminal background check company that delivers global solutions ranging from employment screenings to background checks the following are the processes which were covered email process research process review process responsibilities requirement gathering through conducting interviews brainstorming sessions with stakeholders to develop decision models and execute those rules as per the use case specifications to test validate the decision models against document test data to maintain and enhance the decision models for changes in regulations as per use case specifications responsible for performing the business research that will make a business growth developing a clear understanding of existing business functions and processes effectively communicate with the onsite clients for the queries suggestions and update giving suggestions to enhance the current processes identifying areas for process improvement flagging up potential problems at an early stage preparing powerpoint presentations and documents for business meetings using any information gathered to write up detailed reports highlighting risks and issues that could impact project delivery able to work accurately to develop and maintain documentation for internal team training and client end user operations to work efficiently with team members and across teams to mentor and train junior team members company clinical testing lab work and diagnostic testing description iqvia provides services to its customers this includes clinical testing lab work and diagnostic testing under clinical trial these customers need to pay to iqvia and aging details and invoices are generated for the same the following are the processes which were covered tracking payments automated real time metrics reporting dashboard past due notifications ar statements credit rebill responsibilities conducting meetings with clients and key stakeholders to gather requirements analyze finalize and have formal sign offs from approvers gather and perform analysis of the business requirements translating the business requirements into the business requirement document brd functional requirement document frd facilitating meetings with the appropriate subject matter experts in both business and technology teams coordinating with business user community for the execution of user acceptance test as well as tracking issues working collaborating and coordinating with offshore and onsite team members to fulfill the ba responsibilities from project initiation to post implementation reviewing the test scripts with business users as well as technology team execute test scripts with expected results for the system integration test sit and user acceptance test uat coordinating and conducting the production acceptance testing pat with the business users creating flow diagrams structure charts and other types of system or process representations managing changes to requirements and baseline through a change control process utilizing standard methods design and testing tools throughout project development life cycle work closely with the operational functional teams operations management and personnel and various technology teams to facilitate a shared understanding of requirements and priorities across all areas company eduavenir it solution description project m b m s m b m s is an inventory management application that allows user to manage inventory details of different warehouses having different products located at various locations and help extract what goods have been procured sold or returned by customers it generates automated invoicesalong withcustomized reports it also managescustomer complaint and resolution system implementation along with automated mis on monthly basis sales and forecastingis also developed on mis system and the streamlining of process of warehousing and dispatch along with online proof of delivery management system pod documentation is generated responsibilities participate in requirement gathering discussion with client to understand the flow of business processes analyze the requirements and determine the core processes develop process documentation and ensure to stay up to date in conjunction with on going changes participate in process flow analysis and preparing brd srs coordinating with developers designers operations teams for various nuances of the project communicate the stakeholder requirements from requirement enhancement to implementation and finally deliver the same within estimated timeframe support uat by reviewing test cases manage version control of documents software builds coordinate with the stakeholders for uat sign off and coordinate internally for production movement till golive stage of the application provide demo and training to internal and end user using powerpoint presentation resolving project functional technical issues during uat prioritizing the production bugs and resolving the same within the estimated timeframe preparing project status report and production bugs status to all the stakeholders promoting and networking for online trading platform designing query sheet for obtaining and comparison of quotes from various vendors development of product codes material codes for inventory management master data management company capgemini head office description type mobile and device testing duration january  august  follet an application which takes an electronic request from the user for the books he requires from a particular follet store this detailed information about books that will include the name of the book its price the date of the transaction and the parties involved which will then be sent to follet stores user then create request for one or more books for a given date this request is then processed further and user gets a mail of the date when he will be provided with that book responsibilities understanding the needs and business requirements preparing brd srs by eliciting all the requirements from the client and smes understanding the dependency of the modules in the system preparation of test plan for unit level and integration level preparation and execution of test cases defect tracking issue resolution risk monitoring status tracking reporting and follow up preparation of test completion report company capgemini head office description company capgemini head office description humana is a health care insurance project of u s which deals with supplying various medicines to citizens as per the doctor s reference and patient s insurance policy this application keeps track of all the medicines user has consumed in the past and generates a patient history a citizen is given a drug only after the doctor s reference so the doctor s information is also linked with the patient s history responsibilities understanding the requirements and getting clarifications from client involved in writing test cases based on test scenarios and execute them ensuring test coverage using requirement traceability matrix rtm preparation of test completion report company capgemini head office description testing trends wqr world quality report is an application which allows the users to take a survey on different methods and technologies used for testing users can choose to answer any type of questions under three different categories users have a facility to search view and export the data to excel also users get daily and weekly reports through email about the new trends in testing implemented around the globe testing trends wqr app is available on android and ios platforms responsibilities understanding the requirements and getting clarifications from client writing test cases based on test scenarios and executed them performing different types of testing such as functional integration system and uat defect resolution and maintenance of the application \"\n        ],\n        \"semantic_type\": \"\",\n        \"description\": \"\"\n      }\n    }\n  ]\n}"
            }
          },
          "metadata": {},
          "execution_count": 12
        }
      ],
      "source": [
        "df.head(1)\n"
      ]
    },
    {
      "cell_type": "code",
      "execution_count": null,
      "id": "c4857d2c-97d8-4372-b610-a445a60a57a3",
      "metadata": {
        "id": "c4857d2c-97d8-4372-b610-a445a60a57a3"
      },
      "outputs": [],
      "source": [
        "from sklearn.preprocessing import LabelEncoder\n",
        "encoder = LabelEncoder()\n",
        "df['Labels']=encoder.fit_transform(df.Category)"
      ]
    },
    {
      "cell_type": "code",
      "execution_count": null,
      "id": "b238f850-56de-475b-91fa-932d1c63c3b3",
      "metadata": {
        "colab": {
          "base_uri": "https://localhost:8080/"
        },
        "id": "b238f850-56de-475b-91fa-932d1c63c3b3",
        "outputId": "1c9561af-2b10-40ba-8986-c092a7b5b8fc"
      },
      "outputs": [
        {
          "output_type": "execute_result",
          "data": {
            "text/plain": [
              "Labels\n",
              "15    84\n",
              "23    70\n",
              "8     55\n",
              "20    48\n",
              "24    45\n",
              "Name: count, dtype: int64"
            ]
          },
          "metadata": {},
          "execution_count": 14
        }
      ],
      "source": [
        "df.Labels.value_counts()[:5]\n"
      ]
    },
    {
      "cell_type": "code",
      "execution_count": null,
      "id": "4fbf5c8d-bcfe-4877-9a6a-2929d0a2c88c",
      "metadata": {
        "colab": {
          "base_uri": "https://localhost:8080/",
          "height": 476
        },
        "id": "4fbf5c8d-bcfe-4877-9a6a-2929d0a2c88c",
        "outputId": "b81938ab-da2f-4190-f877-a5a2973d269a"
      },
      "outputs": [
        {
          "output_type": "execute_result",
          "data": {
            "text/plain": [
              "                Category  \\\n",
              "192  Mechanical Engineer   \n",
              "423     Business Analyst   \n",
              "\n",
              "                                                                                                                                                                                                                                                                                                                                                                                                                                                                                                                                                                                                                                                                                                                                                                                                                              Resume  \\\n",
              "192                                                                                                                                                              Education Details \\r\\nJanuary 2018 Bachelor's of Engineering Engineering Mumbai, Maharashtra MGM College of Engineering\\r\\n Diploma Mechanical Pune, Maharashtra MIT\\r\\nPresident of Mechanical Engineering Student's Association \\r\\n\\r\\nPresident of Mechanical Engineering Student's Association\\r\\nSkill Details \\r\\nCompany Details \\r\\ncompany - Full Throttle\\r\\ndescription - conducted by IIT\\r\\nBombay.\\r\\n\\r\\nâ¢   Worked as a President of Mechanical Engineering Student's Association [MESA] in\\r\\nMIT, Pune.\\r\\ncompany - R.C Car Race of STEPCONE\\r\\ndescription - paper & project contest and exhibition conducted by GMR Instiute of Technology.   \n",
              "423  Key Skills - Requirement Gathering - Requirement Analysis -Design Specifications - Client Communication - System Documentation - Problem solving - SDLC Operating Systems: Windows OS, UNIX (Linux/Ubuntu) Languages: Java, C++ Web Languages: JavaScript, HTML Tools: Citrix Software, System Architect, Quality Center v9.0 & v10.0, Tortoise SVN, DOORS, Artifact Viewer, JformDesigner, JIRA, Microsoft D365 Other Skills: Microsoft Office, MS Excel, MS PowerPoint, MS Visio, AutoCAD, VLSI, MS-CIT Certified. Education Details \\r\\nJanuary 2012 BE Electronics Mumbai, Maharashtra Mumbai University\\r\\nJanuary 2006    Maharashtra State Board\\r\\nBusiness Analyst \\r\\n\\r\\nBusiness Analyst - Intertek India Pvt Ltd\\r\\nSkill Details \\r\\nSDLC- Exprience - 75 months\\r\\nVISIO- Exprience - 60 months\\r\\nREQUIREMEN...   \n",
              "\n",
              "                                                                                                                                                                                                                                                                                                                                                                                                                                                                                                                                                                                                                                                                                                                                                                                                                      Cleaned Resume  \\\n",
              "192                                                                                                                                                                                                                                             education details january  bachelor s of engineering engineering mumbai maharashtra mgm college of engineering diploma mechanical pune maharashtra mit president of mechanical engineering student s association president of mechanical engineering student s association skill details company details company full throttle description conducted by iit bombay worked as a president of mechanical engineering student s association mesa in mit pune company r c car race of stepcone description paper project contest and exhibition conducted by gmr instiute of technology    \n",
              "423  key skills requirement gathering requirement analysis design specifications client communication system documentation problem solving sdlc operating systems windows os unix linux ubuntu languages java c web languages javascript html tools citrix software system architect quality center v  v  tortoise svn doors artifact viewer jformdesigner jira microsoft d other skills microsoft office ms excel ms powerpoint ms visio autocad vlsi ms cit certified education details january  be electronics mumbai maharashtra mumbai university january  maharashtra state board business analyst business analyst intertek india pvt ltd skill details sdlc exprience  months visio exprience  months requirement gathering exprience  months documentation exprience less than  year months functional testing exprience...   \n",
              "\n",
              "     Labels  \n",
              "192      16  \n",
              "423       4  "
            ],
            "text/html": [
              "\n",
              "  <div id=\"df-c35df9f1-bc30-4511-beef-ce5991327023\" class=\"colab-df-container\">\n",
              "    <div>\n",
              "<style scoped>\n",
              "    .dataframe tbody tr th:only-of-type {\n",
              "        vertical-align: middle;\n",
              "    }\n",
              "\n",
              "    .dataframe tbody tr th {\n",
              "        vertical-align: top;\n",
              "    }\n",
              "\n",
              "    .dataframe thead th {\n",
              "        text-align: right;\n",
              "    }\n",
              "</style>\n",
              "<table border=\"1\" class=\"dataframe\">\n",
              "  <thead>\n",
              "    <tr style=\"text-align: right;\">\n",
              "      <th></th>\n",
              "      <th>Category</th>\n",
              "      <th>Resume</th>\n",
              "      <th>Cleaned Resume</th>\n",
              "      <th>Labels</th>\n",
              "    </tr>\n",
              "  </thead>\n",
              "  <tbody>\n",
              "    <tr>\n",
              "      <th>192</th>\n",
              "      <td>Mechanical Engineer</td>\n",
              "      <td>Education Details \\r\\nJanuary 2018 Bachelor's of Engineering Engineering Mumbai, Maharashtra MGM College of Engineering\\r\\n Diploma Mechanical Pune, Maharashtra MIT\\r\\nPresident of Mechanical Engineering Student's Association \\r\\n\\r\\nPresident of Mechanical Engineering Student's Association\\r\\nSkill Details \\r\\nCompany Details \\r\\ncompany - Full Throttle\\r\\ndescription - conducted by IIT\\r\\nBombay.\\r\\n\\r\\nâ¢   Worked as a President of Mechanical Engineering Student's Association [MESA] in\\r\\nMIT, Pune.\\r\\ncompany - R.C Car Race of STEPCONE\\r\\ndescription - paper &amp; project contest and exhibition conducted by GMR Instiute of Technology.</td>\n",
              "      <td>education details january  bachelor s of engineering engineering mumbai maharashtra mgm college of engineering diploma mechanical pune maharashtra mit president of mechanical engineering student s association president of mechanical engineering student s association skill details company details company full throttle description conducted by iit bombay worked as a president of mechanical engineering student s association mesa in mit pune company r c car race of stepcone description paper project contest and exhibition conducted by gmr instiute of technology</td>\n",
              "      <td>16</td>\n",
              "    </tr>\n",
              "    <tr>\n",
              "      <th>423</th>\n",
              "      <td>Business Analyst</td>\n",
              "      <td>Key Skills - Requirement Gathering - Requirement Analysis -Design Specifications - Client Communication - System Documentation - Problem solving - SDLC Operating Systems: Windows OS, UNIX (Linux/Ubuntu) Languages: Java, C++ Web Languages: JavaScript, HTML Tools: Citrix Software, System Architect, Quality Center v9.0 &amp; v10.0, Tortoise SVN, DOORS, Artifact Viewer, JformDesigner, JIRA, Microsoft D365 Other Skills: Microsoft Office, MS Excel, MS PowerPoint, MS Visio, AutoCAD, VLSI, MS-CIT Certified. Education Details \\r\\nJanuary 2012 BE Electronics Mumbai, Maharashtra Mumbai University\\r\\nJanuary 2006    Maharashtra State Board\\r\\nBusiness Analyst \\r\\n\\r\\nBusiness Analyst - Intertek India Pvt Ltd\\r\\nSkill Details \\r\\nSDLC- Exprience - 75 months\\r\\nVISIO- Exprience - 60 months\\r\\nREQUIREMEN...</td>\n",
              "      <td>key skills requirement gathering requirement analysis design specifications client communication system documentation problem solving sdlc operating systems windows os unix linux ubuntu languages java c web languages javascript html tools citrix software system architect quality center v  v  tortoise svn doors artifact viewer jformdesigner jira microsoft d other skills microsoft office ms excel ms powerpoint ms visio autocad vlsi ms cit certified education details january  be electronics mumbai maharashtra mumbai university january  maharashtra state board business analyst business analyst intertek india pvt ltd skill details sdlc exprience  months visio exprience  months requirement gathering exprience  months documentation exprience less than  year months functional testing exprience...</td>\n",
              "      <td>4</td>\n",
              "    </tr>\n",
              "  </tbody>\n",
              "</table>\n",
              "</div>\n",
              "    <div class=\"colab-df-buttons\">\n",
              "\n",
              "  <div class=\"colab-df-container\">\n",
              "    <button class=\"colab-df-convert\" onclick=\"convertToInteractive('df-c35df9f1-bc30-4511-beef-ce5991327023')\"\n",
              "            title=\"Convert this dataframe to an interactive table.\"\n",
              "            style=\"display:none;\">\n",
              "\n",
              "  <svg xmlns=\"http://www.w3.org/2000/svg\" height=\"24px\" viewBox=\"0 -960 960 960\">\n",
              "    <path d=\"M120-120v-720h720v720H120Zm60-500h600v-160H180v160Zm220 220h160v-160H400v160Zm0 220h160v-160H400v160ZM180-400h160v-160H180v160Zm440 0h160v-160H620v160ZM180-180h160v-160H180v160Zm440 0h160v-160H620v160Z\"/>\n",
              "  </svg>\n",
              "    </button>\n",
              "\n",
              "  <style>\n",
              "    .colab-df-container {\n",
              "      display:flex;\n",
              "      gap: 12px;\n",
              "    }\n",
              "\n",
              "    .colab-df-convert {\n",
              "      background-color: #E8F0FE;\n",
              "      border: none;\n",
              "      border-radius: 50%;\n",
              "      cursor: pointer;\n",
              "      display: none;\n",
              "      fill: #1967D2;\n",
              "      height: 32px;\n",
              "      padding: 0 0 0 0;\n",
              "      width: 32px;\n",
              "    }\n",
              "\n",
              "    .colab-df-convert:hover {\n",
              "      background-color: #E2EBFA;\n",
              "      box-shadow: 0px 1px 2px rgba(60, 64, 67, 0.3), 0px 1px 3px 1px rgba(60, 64, 67, 0.15);\n",
              "      fill: #174EA6;\n",
              "    }\n",
              "\n",
              "    .colab-df-buttons div {\n",
              "      margin-bottom: 4px;\n",
              "    }\n",
              "\n",
              "    [theme=dark] .colab-df-convert {\n",
              "      background-color: #3B4455;\n",
              "      fill: #D2E3FC;\n",
              "    }\n",
              "\n",
              "    [theme=dark] .colab-df-convert:hover {\n",
              "      background-color: #434B5C;\n",
              "      box-shadow: 0px 1px 3px 1px rgba(0, 0, 0, 0.15);\n",
              "      filter: drop-shadow(0px 1px 2px rgba(0, 0, 0, 0.3));\n",
              "      fill: #FFFFFF;\n",
              "    }\n",
              "  </style>\n",
              "\n",
              "    <script>\n",
              "      const buttonEl =\n",
              "        document.querySelector('#df-c35df9f1-bc30-4511-beef-ce5991327023 button.colab-df-convert');\n",
              "      buttonEl.style.display =\n",
              "        google.colab.kernel.accessAllowed ? 'block' : 'none';\n",
              "\n",
              "      async function convertToInteractive(key) {\n",
              "        const element = document.querySelector('#df-c35df9f1-bc30-4511-beef-ce5991327023');\n",
              "        const dataTable =\n",
              "          await google.colab.kernel.invokeFunction('convertToInteractive',\n",
              "                                                    [key], {});\n",
              "        if (!dataTable) return;\n",
              "\n",
              "        const docLinkHtml = 'Like what you see? Visit the ' +\n",
              "          '<a target=\"_blank\" href=https://colab.research.google.com/notebooks/data_table.ipynb>data table notebook</a>'\n",
              "          + ' to learn more about interactive tables.';\n",
              "        element.innerHTML = '';\n",
              "        dataTable['output_type'] = 'display_data';\n",
              "        await google.colab.output.renderOutput(dataTable, element);\n",
              "        const docLink = document.createElement('div');\n",
              "        docLink.innerHTML = docLinkHtml;\n",
              "        element.appendChild(docLink);\n",
              "      }\n",
              "    </script>\n",
              "  </div>\n",
              "\n",
              "\n",
              "<div id=\"df-498ba426-ee75-4008-abc3-9467251bf4fd\">\n",
              "  <button class=\"colab-df-quickchart\" onclick=\"quickchart('df-498ba426-ee75-4008-abc3-9467251bf4fd')\"\n",
              "            title=\"Suggest charts\"\n",
              "            style=\"display:none;\">\n",
              "\n",
              "<svg xmlns=\"http://www.w3.org/2000/svg\" height=\"24px\"viewBox=\"0 0 24 24\"\n",
              "     width=\"24px\">\n",
              "    <g>\n",
              "        <path d=\"M19 3H5c-1.1 0-2 .9-2 2v14c0 1.1.9 2 2 2h14c1.1 0 2-.9 2-2V5c0-1.1-.9-2-2-2zM9 17H7v-7h2v7zm4 0h-2V7h2v10zm4 0h-2v-4h2v4z\"/>\n",
              "    </g>\n",
              "</svg>\n",
              "  </button>\n",
              "\n",
              "<style>\n",
              "  .colab-df-quickchart {\n",
              "      --bg-color: #E8F0FE;\n",
              "      --fill-color: #1967D2;\n",
              "      --hover-bg-color: #E2EBFA;\n",
              "      --hover-fill-color: #174EA6;\n",
              "      --disabled-fill-color: #AAA;\n",
              "      --disabled-bg-color: #DDD;\n",
              "  }\n",
              "\n",
              "  [theme=dark] .colab-df-quickchart {\n",
              "      --bg-color: #3B4455;\n",
              "      --fill-color: #D2E3FC;\n",
              "      --hover-bg-color: #434B5C;\n",
              "      --hover-fill-color: #FFFFFF;\n",
              "      --disabled-bg-color: #3B4455;\n",
              "      --disabled-fill-color: #666;\n",
              "  }\n",
              "\n",
              "  .colab-df-quickchart {\n",
              "    background-color: var(--bg-color);\n",
              "    border: none;\n",
              "    border-radius: 50%;\n",
              "    cursor: pointer;\n",
              "    display: none;\n",
              "    fill: var(--fill-color);\n",
              "    height: 32px;\n",
              "    padding: 0;\n",
              "    width: 32px;\n",
              "  }\n",
              "\n",
              "  .colab-df-quickchart:hover {\n",
              "    background-color: var(--hover-bg-color);\n",
              "    box-shadow: 0 1px 2px rgba(60, 64, 67, 0.3), 0 1px 3px 1px rgba(60, 64, 67, 0.15);\n",
              "    fill: var(--button-hover-fill-color);\n",
              "  }\n",
              "\n",
              "  .colab-df-quickchart-complete:disabled,\n",
              "  .colab-df-quickchart-complete:disabled:hover {\n",
              "    background-color: var(--disabled-bg-color);\n",
              "    fill: var(--disabled-fill-color);\n",
              "    box-shadow: none;\n",
              "  }\n",
              "\n",
              "  .colab-df-spinner {\n",
              "    border: 2px solid var(--fill-color);\n",
              "    border-color: transparent;\n",
              "    border-bottom-color: var(--fill-color);\n",
              "    animation:\n",
              "      spin 1s steps(1) infinite;\n",
              "  }\n",
              "\n",
              "  @keyframes spin {\n",
              "    0% {\n",
              "      border-color: transparent;\n",
              "      border-bottom-color: var(--fill-color);\n",
              "      border-left-color: var(--fill-color);\n",
              "    }\n",
              "    20% {\n",
              "      border-color: transparent;\n",
              "      border-left-color: var(--fill-color);\n",
              "      border-top-color: var(--fill-color);\n",
              "    }\n",
              "    30% {\n",
              "      border-color: transparent;\n",
              "      border-left-color: var(--fill-color);\n",
              "      border-top-color: var(--fill-color);\n",
              "      border-right-color: var(--fill-color);\n",
              "    }\n",
              "    40% {\n",
              "      border-color: transparent;\n",
              "      border-right-color: var(--fill-color);\n",
              "      border-top-color: var(--fill-color);\n",
              "    }\n",
              "    60% {\n",
              "      border-color: transparent;\n",
              "      border-right-color: var(--fill-color);\n",
              "    }\n",
              "    80% {\n",
              "      border-color: transparent;\n",
              "      border-right-color: var(--fill-color);\n",
              "      border-bottom-color: var(--fill-color);\n",
              "    }\n",
              "    90% {\n",
              "      border-color: transparent;\n",
              "      border-bottom-color: var(--fill-color);\n",
              "    }\n",
              "  }\n",
              "</style>\n",
              "\n",
              "  <script>\n",
              "    async function quickchart(key) {\n",
              "      const quickchartButtonEl =\n",
              "        document.querySelector('#' + key + ' button');\n",
              "      quickchartButtonEl.disabled = true;  // To prevent multiple clicks.\n",
              "      quickchartButtonEl.classList.add('colab-df-spinner');\n",
              "      try {\n",
              "        const charts = await google.colab.kernel.invokeFunction(\n",
              "            'suggestCharts', [key], {});\n",
              "      } catch (error) {\n",
              "        console.error('Error during call to suggestCharts:', error);\n",
              "      }\n",
              "      quickchartButtonEl.classList.remove('colab-df-spinner');\n",
              "      quickchartButtonEl.classList.add('colab-df-quickchart-complete');\n",
              "    }\n",
              "    (() => {\n",
              "      let quickchartButtonEl =\n",
              "        document.querySelector('#df-498ba426-ee75-4008-abc3-9467251bf4fd button');\n",
              "      quickchartButtonEl.style.display =\n",
              "        google.colab.kernel.accessAllowed ? 'block' : 'none';\n",
              "    })();\n",
              "  </script>\n",
              "</div>\n",
              "\n",
              "    </div>\n",
              "  </div>\n"
            ],
            "application/vnd.google.colaboratory.intrinsic+json": {
              "type": "dataframe",
              "summary": "{\n  \"name\": \"df\",\n  \"rows\": 2,\n  \"fields\": [\n    {\n      \"column\": \"Category\",\n      \"properties\": {\n        \"dtype\": \"string\",\n        \"num_unique_values\": 2,\n        \"samples\": [\n          \"Business Analyst\",\n          \"Mechanical Engineer\"\n        ],\n        \"semantic_type\": \"\",\n        \"description\": \"\"\n      }\n    },\n    {\n      \"column\": \"Resume\",\n      \"properties\": {\n        \"dtype\": \"string\",\n        \"num_unique_values\": 2,\n        \"samples\": [\n          \"Key Skills - Requirement Gathering - Requirement Analysis -Design Specifications - Client Communication - System Documentation - Problem solving - SDLC Operating Systems: Windows OS, UNIX (Linux/Ubuntu) Languages: Java, C++ Web Languages: JavaScript, HTML Tools: Citrix Software, System Architect, Quality Center v9.0 & v10.0, Tortoise SVN, DOORS, Artifact Viewer, JformDesigner, JIRA, Microsoft D365 Other Skills: Microsoft Office, MS Excel, MS PowerPoint, MS Visio, AutoCAD, VLSI, MS-CIT Certified. Education Details \\r\\nJanuary 2012 BE Electronics Mumbai, Maharashtra Mumbai University\\r\\nJanuary 2006    Maharashtra State Board\\r\\nBusiness Analyst \\r\\n\\r\\nBusiness Analyst - Intertek India Pvt Ltd\\r\\nSkill Details \\r\\nSDLC- Exprience - 75 months\\r\\nVISIO- Exprience - 60 months\\r\\nREQUIREMENT GATHERING- Exprience - 15 months\\r\\nDocumentation- Exprience - Less than 1 year months\\r\\nFunctional Testing- Exprience - Less than 1 year months\\r\\nBusiness Analysis- Exprience - Less than 1 year months\\r\\nJira- Exprience - Less than 1 year monthsCompany Details \\r\\ncompany - Intertek India Pvt Ltd\\r\\ndescription - Business Analyst. Key responsibilities include Requirements Gathering, Requirements Analysis. Documentation like FRD creation. Providing KT sessions to the team. Having Client Communication. Gap Analysis.\\r\\ncompany - Intertek India Pvt Ltd\\r\\ndescription - Requirement Gathering from Businesses. Creating FRDs.\\r\\n\\u00e2\\u009c\\u0093 Vendor interaction for functional and technical disciplines.\\r\\n\\u00e2\\u009c\\u0093 Creating Project Plan.\\r\\n\\u00e2\\u009c\\u0093 Walkthrough to team regarding the requirement \\u00e2\\u009c\\u0093 Change Proposal Management; Effort Estimation, Impact & Gap Analysis \\u00e2\\u009c\\u0093 Actively participate in Change proposal implementation & testing and define ways for improvement / enhancement \\u00e2\\u009c\\u0093 Defect analysis & clarifying functional queries of team members & developers \\u00e2\\u009c\\u0093 Creating UAT Test cases. Executing the same.\\r\\n\\u00e2\\u009c\\u0093 Test Management: Test Data creation, Test Case writing, Test Case Execution (Manual), Regression tests at various stages in the SDLC\\r\\n\\r\\nProject Details\\r\\nProject 1\\tInlight (Feb 2018 till date)\\r\\nPlatform\\t.Net\\r\\n\\r\\nDescription:\\r\\nInlight - (Supplier Risk Assessment Application)\\r\\nInlight is an Application designed to assess the Suppliers within the Supply chain. The Application on boards the Importers, Exporters and Suppliers. Based on the role they perform a Questionnaire is assigned to them and they fill out the Questionnaire. Basis the answer a scoring methodology is defined and the Suppliers are assessed to be Critical, High, Medium and Low. This helps in assessing the risk involved in working with certain Suppliers in the Supply chain.\\r\\n\\r\\nBeyond Curriculum \\u00e2\\u009c\\u0093 Completed Internship in L&T \\u00e2\\u009c\\u0093 Attended Logistics Business School Training in Germany.\\r\\n\\u00e2\\u009c\\u0093 A1 Certified in German Language.\\r\\n\\u00e2\\u009c\\u0093 Travelled Onsite for Business Meetings and Discussions with Clients.\\r\\n\\r\\nPersonal Dossier .\\r\\ncompany - AllCargo India Pvt Ltd\\r\\ndescription - FRD creation\\r\\nClient communication\\r\\nVendor Management\\r\\nHaving product Walk through with the team.\\r\\ncompany - AllCargo India Pvt Ltd\\r\\ndescription - Requirement Gathering from Businesses. Creating BRDs and FSDs.\\r\\n\\u00e2\\u009c\\u0093 Vendor interaction for functional and technical disciplines.\\r\\n\\u00e2\\u009c\\u0093 Creating Project Plan.\\r\\n\\u00e2\\u009c\\u0093 Analyzing business requirements and defining consistent, correct and complete specification \\u00e2\\u009c\\u0093 Change Proposal Management; Effort Estimation, Impact & Gap Analysis \\u00e2\\u009c\\u0093 Actively participate in Change proposal implementation & testing and define ways for improvement / enhancement \\u00e2\\u009c\\u0093 Defect analysis & clarifying functional queries of team members & developers \\u00e2\\u009c\\u0093 Prepare Requirement document, User manual, Test cases and training material \\u00e2\\u009c\\u0093 Test Management: Test Data creation, Test Case writing, Test Case Execution (Manual), Regression tests at various stages in the SDLC\\r\\n\\r\\nProject Details\\r\\nProject 1\\tCRM (Nov 2017 to Feb 2018)\\r\\nPlatform\\tMicrosoft D365\\r\\n\\r\\nDescription:\\r\\nCRM - (Sales Management System)\\r\\nCRM is a Software solution specially designed for handling Sales Management. This is a product provided by Microsoft which helps in tracking the sales of company, the activities of the salesperson, 360-degree view of customer accounts. This basically helps to get the overall status and view of various businesses the company is achieving from different Customers. A platform where the salesperson provides the details of Lead, Opportunity, Accounts and Businesses. Available on Cloud.\\r\\n\\r\\nProject 2\\tCredit Risk (Nov 2017 to Feb 2018)\\r\\nPlatform\\t.Net\\r\\n\\r\\nDescription:\\r\\nCredit Risk - (Customer credit check Management System)\\r\\nCredit Risk is a Software solution specially designed for checking the credit status of the customer from which businesses are gained. The software basically is designed to take the KYC and the consent from the customer. For those customers who provide the consent, the credit report and monitoring report are obtained from the Credit Bureau. Based on the reports the customer health can be determined and business with them can either be  or discontinued.\\r\\n\\r\\nWork Experience 3:\\r\\ncompany - Capgemini India Pvt Ltd\\r\\ndescription - Client: DB Schenker \\u00e2\\u009c\\u0093 Analyzing business requirements and defining consistent, correct and complete specification \\u00e2\\u009c\\u0093 Change Proposal Management; Effort Estimation, Impact & Gap Analysis \\u00e2\\u009c\\u0093 Actively participate in Change proposal implementation & testing and define ways for improvement / enhancement \\u00e2\\u009c\\u0093 Defect analysis & clarifying functional queries of team members & developers \\u00e2\\u009c\\u0093 Prepare Requirement document, User manual, Test cases and training material \\u00e2\\u009c\\u0093 Impart business process knowledge transfer to the team members. Prepare business / functional process workflow using Visio, UML etc \\u00e2\\u009c\\u0093 Working knowledge of OOAD - Object Oriented Analysis & Design concept.\\r\\n\\u00e2\\u009c\\u0093 Helping the Junior BAs in their work. Supervising their work.\\r\\n\\u00e2\\u009c\\u0093 Tools & Applications: System Architect, DOORS, UML designs & concepts, HP Quality Center, MWB, Jformdesigner \\u00e2\\u009c\\u0093 Test Management: Test Data creation, Test Case writing, Test Case Execution (Manual), Regression tests at various stages in the SDLC\\r\\n\\r\\nProject Details\\r\\ncompany - Capgemini India Pvt Ltd\\r\\ndescription - Platform\\tJava\\r\\n\\r\\nDescription:\\r\\nTANGO - (Sea & Air Cargo Management System)\\r\\nTANGO is a Software solution specially designed for handling sea and air cargo (Import & Export) Management. TANGO manages the creation of Shipment, Tracking the shipment via multiple service legs i.e. Pick-up, Delivery leg etc. It helps in managing the end to end shipment with respect to the entire department involvement (globally)\\r\\n\\r\\nWork Experience 2:\\r\\ncompany - Capgemini India Pvt Ltd\\r\\ndescription - \",\n          \"Education Details \\r\\nJanuary 2018 Bachelor's of Engineering Engineering Mumbai, Maharashtra MGM College of Engineering\\r\\n Diploma Mechanical Pune, Maharashtra MIT\\r\\nPresident of Mechanical Engineering Student's Association \\r\\n\\r\\nPresident of Mechanical Engineering Student's Association\\r\\nSkill Details \\r\\nCompany Details \\r\\ncompany - Full Throttle\\r\\ndescription - conducted by IIT\\r\\nBombay.\\r\\n\\r\\n\\u00e2\\u0080\\u00a2   Worked as a President of Mechanical Engineering Student's Association [MESA] in\\r\\nMIT, Pune.\\r\\ncompany - R.C Car Race of STEPCONE\\r\\ndescription - paper & project contest and exhibition conducted by GMR Instiute of Technology.\"\n        ],\n        \"semantic_type\": \"\",\n        \"description\": \"\"\n      }\n    },\n    {\n      \"column\": \"Cleaned Resume\",\n      \"properties\": {\n        \"dtype\": \"string\",\n        \"num_unique_values\": 2,\n        \"samples\": [\n          \"key skills requirement gathering requirement analysis design specifications client communication system documentation problem solving sdlc operating systems windows os unix linux ubuntu languages java c web languages javascript html tools citrix software system architect quality center v  v  tortoise svn doors artifact viewer jformdesigner jira microsoft d other skills microsoft office ms excel ms powerpoint ms visio autocad vlsi ms cit certified education details january  be electronics mumbai maharashtra mumbai university january  maharashtra state board business analyst business analyst intertek india pvt ltd skill details sdlc exprience  months visio exprience  months requirement gathering exprience  months documentation exprience less than  year months functional testing exprience less than  year months business analysis exprience less than  year months jira exprience less than  year monthscompany details company intertek india pvt ltd description business analyst key responsibilities include requirements gathering requirements analysis documentation like frd creation providing kt sessions to the team having client communication gap analysis company intertek india pvt ltd description requirement gathering from businesses creating frds vendor interaction for functional and technical disciplines creating project plan walkthrough to team regarding the requirement change proposal management effort estimation impact gap analysis actively participate in change proposal implementation testing and define ways for improvement enhancement defect analysis clarifying functional queries of team members developers creating uat test cases executing the same test management test data creation test case writing test case execution manual regression tests at various stages in the sdlc project details project  inlight feb  till date platform net description inlight supplier risk assessment application inlight is an application designed to assess the suppliers within the supply chain the application on boards the importers exporters and suppliers based on the role they perform a questionnaire is assigned to them and they fill out the questionnaire basis the answer a scoring methodology is defined and the suppliers are assessed to be critical high medium and low this helps in assessing the risk involved in working with certain suppliers in the supply chain beyond curriculum completed internship in l t attended logistics business school training in germany a certified in german language travelled onsite for business meetings and discussions with clients personal dossier company allcargo india pvt ltd description frd creation client communication vendor management having product walk through with the team company allcargo india pvt ltd description requirement gathering from businesses creating brds and fsds vendor interaction for functional and technical disciplines creating project plan analyzing business requirements and defining consistent correct and complete specification change proposal management effort estimation impact gap analysis actively participate in change proposal implementation testing and define ways for improvement enhancement defect analysis clarifying functional queries of team members developers prepare requirement document user manual test cases and training material test management test data creation test case writing test case execution manual regression tests at various stages in the sdlc project details project  crm nov  to feb  platform microsoft d description crm sales management system crm is a software solution specially designed for handling sales management this is a product provided by microsoft which helps in tracking the sales of company the activities of the salesperson  degree view of customer accounts this basically helps to get the overall status and view of various businesses the company is achieving from different customers a platform where the salesperson provides the details of lead opportunity accounts and businesses available on cloud project  credit risk nov  to feb  platform net description credit risk customer credit check management system credit risk is a software solution specially designed for checking the credit status of the customer from which businesses are gained the software basically is designed to take the kyc and the consent from the customer for those customers who provide the consent the credit report and monitoring report are obtained from the credit bureau based on the reports the customer health can be determined and business with them can either be or discontinued work experience  company capgemini india pvt ltd description client db schenker analyzing business requirements and defining consistent correct and complete specification change proposal management effort estimation impact gap analysis actively participate in change proposal implementation testing and define ways for improvement enhancement defect analysis clarifying functional queries of team members developers prepare requirement document user manual test cases and training material impart business process knowledge transfer to the team members prepare business functional process workflow using visio uml etc working knowledge of ooad object oriented analysis design concept helping the junior bas in their work supervising their work tools applications system architect doors uml designs concepts hp quality center mwb jformdesigner test management test data creation test case writing test case execution manual regression tests at various stages in the sdlc project details company capgemini india pvt ltd description platform java description tango sea air cargo management system tango is a software solution specially designed for handling sea and air cargo import export management tango manages the creation of shipment tracking the shipment via multiple service legs i e pick up delivery leg etc it helps in managing the end to end shipment with respect to the entire department involvement globally work experience  company capgemini india pvt ltd description \",\n          \"education details january  bachelor s of engineering engineering mumbai maharashtra mgm college of engineering diploma mechanical pune maharashtra mit president of mechanical engineering student s association president of mechanical engineering student s association skill details company details company full throttle description conducted by iit bombay worked as a president of mechanical engineering student s association mesa in mit pune company r c car race of stepcone description paper project contest and exhibition conducted by gmr instiute of technology \"\n        ],\n        \"semantic_type\": \"\",\n        \"description\": \"\"\n      }\n    },\n    {\n      \"column\": \"Labels\",\n      \"properties\": {\n        \"dtype\": \"number\",\n        \"std\": 8,\n        \"min\": 4,\n        \"max\": 16,\n        \"num_unique_values\": 2,\n        \"samples\": [\n          4,\n          16\n        ],\n        \"semantic_type\": \"\",\n        \"description\": \"\"\n      }\n    }\n  ]\n}"
            }
          },
          "metadata": {},
          "execution_count": 15
        }
      ],
      "source": [
        "df.sample(2)\n"
      ]
    },
    {
      "cell_type": "code",
      "execution_count": null,
      "id": "f45f9144-0000-4209-8d59-b90a56cbb725",
      "metadata": {
        "colab": {
          "base_uri": "https://localhost:8080/"
        },
        "id": "f45f9144-0000-4209-8d59-b90a56cbb725",
        "outputId": "9827640d-1021-44c8-af0e-53bbf3018576"
      },
      "outputs": [
        {
          "output_type": "stream",
          "name": "stdout",
          "text": [
            "(721,)\n",
            "(721,)\n",
            "(241,)\n",
            "(241,)\n"
          ]
        }
      ],
      "source": [
        "from sklearn.model_selection import train_test_split\n",
        "text = df[\"Cleaned Resume\"].values\n",
        "labels = df[\"Labels\"].values\n",
        "text_train,text_test,y_train,y_test = train_test_split(text, labels, random_state=0, test_size=0.25, stratify=df.Labels)\n",
        "print(text_train.shape)\n",
        "print(y_train.shape)\n",
        "print(text_test.shape)\n",
        "print(y_test.shape)"
      ]
    },
    {
      "cell_type": "code",
      "execution_count": null,
      "id": "e8b59ce1-a5a8-4e08-beb6-0ae1e4f77c5f",
      "metadata": {
        "id": "e8b59ce1-a5a8-4e08-beb6-0ae1e4f77c5f"
      },
      "outputs": [],
      "source": [
        "from sklearn.feature_extraction.text import TfidfVectorizer\n",
        "word_vectorizer = TfidfVectorizer(\n",
        "sublinear_tf=True,\n",
        "use_idf = True,\n",
        "stop_words='english',\n",
        "max_features=1000)"
      ]
    },
    {
      "cell_type": "code",
      "execution_count": null,
      "id": "8c7edd90-d301-4cda-a51f-c2e0de431192",
      "metadata": {
        "colab": {
          "base_uri": "https://localhost:8080/"
        },
        "id": "8c7edd90-d301-4cda-a51f-c2e0de431192",
        "outputId": "a3a01239-bb98-4bd3-c5ea-d18a0b19ce9f"
      },
      "outputs": [
        {
          "output_type": "execute_result",
          "data": {
            "text/plain": [
              "(721, 1000)"
            ]
          },
          "metadata": {},
          "execution_count": 18
        }
      ],
      "source": [
        "X_train = word_vectorizer.fit_transform(text_train)\n",
        "X_train.shape"
      ]
    },
    {
      "cell_type": "code",
      "execution_count": null,
      "id": "245021f4-1be5-4f70-8caa-44330f231568",
      "metadata": {
        "colab": {
          "base_uri": "https://localhost:8080/"
        },
        "id": "245021f4-1be5-4f70-8caa-44330f231568",
        "outputId": "b44472a6-e0c8-4eae-dd32-de7853a3c131"
      },
      "outputs": [
        {
          "output_type": "execute_result",
          "data": {
            "text/plain": [
              "(241, 1000)"
            ]
          },
          "metadata": {},
          "execution_count": 19
        }
      ],
      "source": [
        "X_test = word_vectorizer.transform(text_test)\n",
        "X_test.shape"
      ]
    },
    {
      "cell_type": "code",
      "execution_count": null,
      "id": "7e3c1bb5-2853-4f88-9c19-b13559ef71e1",
      "metadata": {
        "colab": {
          "base_uri": "https://localhost:8080/"
        },
        "id": "7e3c1bb5-2853-4f88-9c19-b13559ef71e1",
        "outputId": "b12ea15b-3296-4449-85e5-dd5107b5e68d"
      },
      "outputs": [
        {
          "output_type": "execute_result",
          "data": {
            "text/plain": [
              "{'working': 991,\n",
              " 'quick': 723,\n",
              " 'details': 239,\n",
              " 'june': 471,\n",
              " 'law': 479,\n",
              " 'mumbai': 578,\n",
              " 'maharashtra': 511,\n",
              " 'university': 952,\n",
              " 'january': 456,\n",
              " 'com': 139}"
            ]
          },
          "metadata": {},
          "execution_count": 20
        }
      ],
      "source": [
        "import itertools\n",
        "dict(itertools.islice(word_vectorizer.vocabulary_.items(), 10))"
      ]
    },
    {
      "cell_type": "code",
      "execution_count": null,
      "id": "76c5b2b1-c31d-4824-886b-76921dc0328f",
      "metadata": {
        "colab": {
          "base_uri": "https://localhost:8080/"
        },
        "id": "76c5b2b1-c31d-4824-886b-76921dc0328f",
        "outputId": "a838198d-634f-4506-9d6d-ea5d5e9b6a58"
      },
      "outputs": [
        {
          "output_type": "stream",
          "name": "stdout",
          "text": [
            "Accuracy of MultinomialNB Classifier on training set: 0.99\n",
            "Accuracy of MultinomialNB Classifier on test set: 0.97\n"
          ]
        }
      ],
      "source": [
        "from sklearn.naive_bayes import MultinomialNB\n",
        "from sklearn.multiclass import OneVsRestClassifier\n",
        "clf = OneVsRestClassifier(MultinomialNB()).fit(X_train, y_train)\n",
        "prediction_mnb = clf.predict(X_test)\n",
        "print('Accuracy of MultinomialNB Classifier on training set: {:.2f}'.format(clf.score(X_train, y_train)))\n",
        "print('Accuracy of MultinomialNB Classifier on test set: {:.2f}'.format(clf.score(X_test, y_test)))"
      ]
    },
    {
      "cell_type": "code",
      "execution_count": null,
      "id": "f6ad08d3-681c-40da-83ba-9587d913a312",
      "metadata": {
        "colab": {
          "base_uri": "https://localhost:8080/"
        },
        "id": "f6ad08d3-681c-40da-83ba-9587d913a312",
        "outputId": "c5ee8ade-e856-4df5-e8d3-956bf3ab1ae2"
      },
      "outputs": [
        {
          "output_type": "stream",
          "name": "stdout",
          "text": [
            "Accuracy of KNeighbors Classifier on training set: 0.99\n",
            "Accuracy of KNeighbors Classifier on test set: 0.97\n"
          ]
        }
      ],
      "source": [
        "from sklearn.neighbors import KNeighborsClassifier\n",
        "model = OneVsRestClassifier(KNeighborsClassifier()).fit(X_train, y_train)\n",
        "prediction_knc = model.predict(X_test)\n",
        "model.fit(X_train,y_train)\n",
        "print('Accuracy of KNeighbors Classifier on training set: {:.2f}'.format(model.score(X_train, y_train)))\n",
        "print('Accuracy of KNeighbors Classifier on test set: {:.2f}'.format(model.score(X_test, y_test)))"
      ]
    },
    {
      "cell_type": "code",
      "execution_count": null,
      "id": "f04c9187-0baf-437b-83d0-bd24196570a1",
      "metadata": {
        "colab": {
          "base_uri": "https://localhost:8080/"
        },
        "id": "f04c9187-0baf-437b-83d0-bd24196570a1",
        "outputId": "c3b3e9c9-1e32-45b2-fe69-795882ca7ce2"
      },
      "outputs": [
        {
          "output_type": "stream",
          "name": "stdout",
          "text": [
            "              precision    recall  f1-score   support\n",
            "\n",
            "           0       1.00      0.80      0.89         5\n",
            "           1       1.00      1.00      1.00         9\n",
            "           2       1.00      0.67      0.80         6\n",
            "           3       1.00      1.00      1.00        10\n",
            "           4       1.00      1.00      1.00         7\n",
            "           5       1.00      1.00      1.00         6\n",
            "           6       1.00      1.00      1.00        10\n",
            "           7       1.00      1.00      1.00         8\n",
            "           8       1.00      0.93      0.96        14\n",
            "           9       1.00      0.57      0.73         7\n",
            "          10       1.00      1.00      1.00        10\n",
            "          11       0.89      1.00      0.94         8\n",
            "          12       1.00      1.00      1.00        11\n",
            "          13       1.00      1.00      1.00        11\n",
            "          14       1.00      1.00      1.00         8\n",
            "          15       0.81      1.00      0.89        21\n",
            "          16       1.00      1.00      1.00        10\n",
            "          17       1.00      1.00      1.00         6\n",
            "          18       1.00      1.00      1.00        10\n",
            "          19       1.00      1.00      1.00         7\n",
            "          20       1.00      1.00      1.00        12\n",
            "          21       1.00      1.00      1.00         6\n",
            "          22       1.00      1.00      1.00        10\n",
            "          23       1.00      1.00      1.00        18\n",
            "          24       0.92      1.00      0.96        11\n",
            "\n",
            "    accuracy                           0.97       241\n",
            "   macro avg       0.98      0.96      0.97       241\n",
            "weighted avg       0.98      0.97      0.97       241\n",
            "\n"
          ]
        }
      ],
      "source": [
        "from sklearn import metrics\n",
        "print(metrics.classification_report(y_test, prediction_mnb))"
      ]
    },
    {
      "cell_type": "code",
      "execution_count": null,
      "id": "83e92269-2c0e-4acc-9929-627434cb18b2",
      "metadata": {
        "colab": {
          "base_uri": "https://localhost:8080/"
        },
        "id": "83e92269-2c0e-4acc-9929-627434cb18b2",
        "outputId": "a75fb0e5-c9b3-4641-9cc6-5bec5b8b3382"
      },
      "outputs": [
        {
          "output_type": "stream",
          "name": "stdout",
          "text": [
            "              precision    recall  f1-score   support\n",
            "\n",
            "           0       1.00      0.80      0.89         5\n",
            "           1       1.00      0.56      0.71         9\n",
            "           2       1.00      0.83      0.91         6\n",
            "           3       1.00      1.00      1.00        10\n",
            "           4       1.00      1.00      1.00         7\n",
            "           5       1.00      1.00      1.00         6\n",
            "           6       0.91      1.00      0.95        10\n",
            "           7       1.00      1.00      1.00         8\n",
            "           8       1.00      0.93      0.96        14\n",
            "           9       1.00      1.00      1.00         7\n",
            "          10       1.00      1.00      1.00        10\n",
            "          11       0.89      1.00      0.94         8\n",
            "          12       1.00      1.00      1.00        11\n",
            "          13       1.00      1.00      1.00        11\n",
            "          14       1.00      1.00      1.00         8\n",
            "          15       1.00      1.00      1.00        21\n",
            "          16       1.00      1.00      1.00        10\n",
            "          17       1.00      1.00      1.00         6\n",
            "          18       1.00      1.00      1.00        10\n",
            "          19       1.00      1.00      1.00         7\n",
            "          20       0.75      1.00      0.86        12\n",
            "          21       1.00      1.00      1.00         6\n",
            "          22       1.00      1.00      1.00        10\n",
            "          23       1.00      1.00      1.00        18\n",
            "          24       0.92      1.00      0.96        11\n",
            "\n",
            "    accuracy                           0.97       241\n",
            "   macro avg       0.98      0.96      0.97       241\n",
            "weighted avg       0.98      0.97      0.97       241\n",
            "\n"
          ]
        }
      ],
      "source": [
        "from sklearn import metrics\n",
        "print(metrics.classification_report(y_test, prediction_knc))"
      ]
    },
    {
      "cell_type": "code",
      "execution_count": null,
      "id": "77ece41c-18d7-4e4f-8d4d-9c741990735a",
      "metadata": {
        "colab": {
          "base_uri": "https://localhost:8080/"
        },
        "id": "77ece41c-18d7-4e4f-8d4d-9c741990735a",
        "outputId": "99f7bf6e-ed53-4a29-ebfe-c56c0e5cd41d"
      },
      "outputs": [
        {
          "output_type": "execute_result",
          "data": {
            "text/plain": [
              "[('Advocate', 0),\n",
              " ('Arts', 1),\n",
              " ('Automation Testing', 2),\n",
              " ('Blockchain', 3),\n",
              " ('Business Analyst', 4),\n",
              " ('Civil Engineer', 5),\n",
              " ('Data Science', 6),\n",
              " ('Database', 7),\n",
              " ('DevOps Engineer', 8),\n",
              " ('DotNet Developer', 9),\n",
              " ('ETL Developer', 10),\n",
              " ('Electrical Engineering', 11),\n",
              " ('HR', 12),\n",
              " ('Hadoop', 13),\n",
              " ('Health and fitness', 14),\n",
              " ('Java Developer', 15),\n",
              " ('Mechanical Engineer', 16),\n",
              " ('Network Security Engineer', 17),\n",
              " ('Operations Manager', 18),\n",
              " ('PMO', 19),\n",
              " ('Python Developer', 20),\n",
              " ('SAP Developer', 21),\n",
              " ('Sales', 22),\n",
              " ('Testing', 23),\n",
              " ('Web Designing', 24)]"
            ]
          },
          "metadata": {},
          "execution_count": 25
        }
      ],
      "source": [
        "l1 = [0,1,2,3,4,5,6,7,8,9,10,11,12,13,14,15,16,17,18,19,20,21,22,23,24]\n",
        "list(zip(encoder.classes_,l1))"
      ]
    },
    {
      "cell_type": "code",
      "execution_count": null,
      "id": "b6f28b0a-8b58-4209-aac9-30feadc1115f",
      "metadata": {
        "colab": {
          "base_uri": "https://localhost:8080/"
        },
        "id": "b6f28b0a-8b58-4209-aac9-30feadc1115f",
        "outputId": "39a8ffbb-1f9d-44e3-80c7-6eb2bee7091a"
      },
      "outputs": [
        {
          "output_type": "stream",
          "name": "stdout",
          "text": [
            "Predicted class using Multinomial Naive Bayes (MNB) classifier: ['Java Developer']\n",
            "Predicted class using K-Nearest Neighbors (KNN) classifier: ['Operations Manager']\n"
          ]
        }
      ],
      "source": [
        "import re\n",
        "\n",
        "def clean_text(text):\n",
        "    # Remove special characters, symbols, and digits\n",
        "    cleaned_text = re.sub(r'[^a-zA-Z\\s]', '', text)\n",
        "    # Convert to lowercase\n",
        "    cleaned_text = cleaned_text.lower()\n",
        "    # Remove extra whitespaces\n",
        "    cleaned_text = ' '.join(cleaned_text.split())\n",
        "    return cleaned_text\n",
        "\n",
        "# Assuming you have a new resume stored in the variable 'new_resume'\n",
        "new_resume = '''\n",
        "# Your resume content here\n",
        "'''\n",
        "\n",
        "# Preprocess the new resume (cleaning, etc.)\n",
        "cleaned_new_resume = clean_text(new_resume)\n",
        "\n",
        "# Vectorize the new resume\n",
        "vectorized_new_resume = word_vectorizer.transform([cleaned_new_resume])\n",
        "\n",
        "# Make predictions using Multinomial Naive Bayes (MNB) classifier\n",
        "predicted_label_mnb = clf.predict(vectorized_new_resume)\n",
        "\n",
        "# Make predictions using K-Nearest Neighbors (KNN) classifier\n",
        "predicted_label_knn = model.predict(vectorized_new_resume)\n",
        "\n",
        "# Map the predicted labels to class names\n",
        "predicted_class_mnb = encoder.inverse_transform(predicted_label_mnb)\n",
        "predicted_class_knn = encoder.inverse_transform(predicted_label_knn)\n",
        "\n",
        "print(\"Predicted class using Multinomial Naive Bayes (MNB) classifier:\", predicted_class_mnb)\n",
        "\n"
      ]
    },
    {
      "cell_type": "code",
      "execution_count": null,
      "id": "f17f207e-334a-4d13-8893-ffd029bc7ce9",
      "metadata": {
        "id": "f17f207e-334a-4d13-8893-ffd029bc7ce9"
      },
      "outputs": [],
      "source": []
    },
    {
      "cell_type": "code",
      "execution_count": null,
      "id": "8864210f-bf5c-4bd4-af00-7086ee0ee667",
      "metadata": {
        "id": "8864210f-bf5c-4bd4-af00-7086ee0ee667"
      },
      "outputs": [],
      "source": []
    }
  ],
  "metadata": {
    "kernelspec": {
      "display_name": "old-f2022-s2023",
      "language": "python",
      "name": "old-f2022-s2023"
    },
    "language_info": {
      "codemirror_mode": {
        "name": "ipython",
        "version": 3
      },
      "file_extension": ".py",
      "mimetype": "text/x-python",
      "name": "python",
      "nbconvert_exporter": "python",
      "pygments_lexer": "ipython3",
      "version": "3.10.7"
    },
    "colab": {
      "provenance": [],
      "gpuType": "T4",
      "include_colab_link": true
    },
    "accelerator": "GPU"
  },
  "nbformat": 4,
  "nbformat_minor": 5
}